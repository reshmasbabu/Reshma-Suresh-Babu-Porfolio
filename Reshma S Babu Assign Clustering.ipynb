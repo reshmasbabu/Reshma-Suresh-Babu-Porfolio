{
 "cells": [
  {
   "cell_type": "markdown",
   "id": "80a58cf6",
   "metadata": {},
   "source": [
    "# Case study on unsupervised learning\n",
    "Try out different clustering models in the given dataset. Find the optimum\n",
    "number of clusters in each model and create the model with optimum number of\n",
    "clusters. Also learn about dB scan clustering and implement it"
   ]
  },
  {
   "cell_type": "markdown",
   "id": "99f7b856",
   "metadata": {},
   "source": [
    "# KMEANS CLUSTERING without PCA"
   ]
  },
  {
   "cell_type": "code",
   "execution_count": 2,
   "id": "801ae3bb",
   "metadata": {},
   "outputs": [],
   "source": [
    "import numpy as np\n",
    "import pandas as pd\n",
    "import matplotlib.pyplot as plt\n",
    "import seaborn as sns"
   ]
  },
  {
   "cell_type": "code",
   "execution_count": 3,
   "id": "924e52f9",
   "metadata": {},
   "outputs": [],
   "source": [
    "#read the dataset\n",
    "data=pd.read_csv(\"Wine_clust.csv\")"
   ]
  },
  {
   "cell_type": "code",
   "execution_count": 4,
   "id": "186e0611",
   "metadata": {},
   "outputs": [
    {
     "data": {
      "text/html": [
       "<div>\n",
       "<style scoped>\n",
       "    .dataframe tbody tr th:only-of-type {\n",
       "        vertical-align: middle;\n",
       "    }\n",
       "\n",
       "    .dataframe tbody tr th {\n",
       "        vertical-align: top;\n",
       "    }\n",
       "\n",
       "    .dataframe thead th {\n",
       "        text-align: right;\n",
       "    }\n",
       "</style>\n",
       "<table border=\"1\" class=\"dataframe\">\n",
       "  <thead>\n",
       "    <tr style=\"text-align: right;\">\n",
       "      <th></th>\n",
       "      <th>Alcohol</th>\n",
       "      <th>Malic_Acid</th>\n",
       "      <th>Ash</th>\n",
       "      <th>Ash_Alcanity</th>\n",
       "      <th>Magnesium</th>\n",
       "      <th>Total_Phenols</th>\n",
       "      <th>Flavanoids</th>\n",
       "      <th>Nonflavanoid_Phenols</th>\n",
       "      <th>Proanthocyanins</th>\n",
       "      <th>Color_Intensity</th>\n",
       "      <th>Hue</th>\n",
       "      <th>OD280</th>\n",
       "      <th>Proline</th>\n",
       "    </tr>\n",
       "  </thead>\n",
       "  <tbody>\n",
       "    <tr>\n",
       "      <th>0</th>\n",
       "      <td>14.23</td>\n",
       "      <td>1.71</td>\n",
       "      <td>2.43</td>\n",
       "      <td>15.6</td>\n",
       "      <td>127</td>\n",
       "      <td>2.80</td>\n",
       "      <td>3.06</td>\n",
       "      <td>0.28</td>\n",
       "      <td>2.29</td>\n",
       "      <td>5.64</td>\n",
       "      <td>1.04</td>\n",
       "      <td>3.92</td>\n",
       "      <td>1065</td>\n",
       "    </tr>\n",
       "    <tr>\n",
       "      <th>1</th>\n",
       "      <td>13.20</td>\n",
       "      <td>1.78</td>\n",
       "      <td>2.14</td>\n",
       "      <td>11.2</td>\n",
       "      <td>100</td>\n",
       "      <td>2.65</td>\n",
       "      <td>2.76</td>\n",
       "      <td>0.26</td>\n",
       "      <td>1.28</td>\n",
       "      <td>4.38</td>\n",
       "      <td>1.05</td>\n",
       "      <td>3.40</td>\n",
       "      <td>1050</td>\n",
       "    </tr>\n",
       "    <tr>\n",
       "      <th>2</th>\n",
       "      <td>13.16</td>\n",
       "      <td>2.36</td>\n",
       "      <td>2.67</td>\n",
       "      <td>18.6</td>\n",
       "      <td>101</td>\n",
       "      <td>2.80</td>\n",
       "      <td>3.24</td>\n",
       "      <td>0.30</td>\n",
       "      <td>2.81</td>\n",
       "      <td>5.68</td>\n",
       "      <td>1.03</td>\n",
       "      <td>3.17</td>\n",
       "      <td>1185</td>\n",
       "    </tr>\n",
       "    <tr>\n",
       "      <th>3</th>\n",
       "      <td>14.37</td>\n",
       "      <td>1.95</td>\n",
       "      <td>2.50</td>\n",
       "      <td>16.8</td>\n",
       "      <td>113</td>\n",
       "      <td>3.85</td>\n",
       "      <td>3.49</td>\n",
       "      <td>0.24</td>\n",
       "      <td>2.18</td>\n",
       "      <td>7.80</td>\n",
       "      <td>0.86</td>\n",
       "      <td>3.45</td>\n",
       "      <td>1480</td>\n",
       "    </tr>\n",
       "    <tr>\n",
       "      <th>4</th>\n",
       "      <td>13.24</td>\n",
       "      <td>2.59</td>\n",
       "      <td>2.87</td>\n",
       "      <td>21.0</td>\n",
       "      <td>118</td>\n",
       "      <td>2.80</td>\n",
       "      <td>2.69</td>\n",
       "      <td>0.39</td>\n",
       "      <td>1.82</td>\n",
       "      <td>4.32</td>\n",
       "      <td>1.04</td>\n",
       "      <td>2.93</td>\n",
       "      <td>735</td>\n",
       "    </tr>\n",
       "  </tbody>\n",
       "</table>\n",
       "</div>"
      ],
      "text/plain": [
       "   Alcohol  Malic_Acid   Ash  Ash_Alcanity  Magnesium  Total_Phenols  \\\n",
       "0    14.23        1.71  2.43          15.6        127           2.80   \n",
       "1    13.20        1.78  2.14          11.2        100           2.65   \n",
       "2    13.16        2.36  2.67          18.6        101           2.80   \n",
       "3    14.37        1.95  2.50          16.8        113           3.85   \n",
       "4    13.24        2.59  2.87          21.0        118           2.80   \n",
       "\n",
       "   Flavanoids  Nonflavanoid_Phenols  Proanthocyanins  Color_Intensity   Hue  \\\n",
       "0        3.06                  0.28             2.29             5.64  1.04   \n",
       "1        2.76                  0.26             1.28             4.38  1.05   \n",
       "2        3.24                  0.30             2.81             5.68  1.03   \n",
       "3        3.49                  0.24             2.18             7.80  0.86   \n",
       "4        2.69                  0.39             1.82             4.32  1.04   \n",
       "\n",
       "   OD280  Proline  \n",
       "0   3.92     1065  \n",
       "1   3.40     1050  \n",
       "2   3.17     1185  \n",
       "3   3.45     1480  \n",
       "4   2.93      735  "
      ]
     },
     "execution_count": 4,
     "metadata": {},
     "output_type": "execute_result"
    }
   ],
   "source": [
    "#Do exploratory data analysis\n",
    "data.head()"
   ]
  },
  {
   "cell_type": "code",
   "execution_count": 5,
   "id": "ae758b7d",
   "metadata": {},
   "outputs": [
    {
     "data": {
      "text/plain": [
       "(178, 13)"
      ]
     },
     "execution_count": 5,
     "metadata": {},
     "output_type": "execute_result"
    }
   ],
   "source": [
    "data.shape"
   ]
  },
  {
   "cell_type": "code",
   "execution_count": 6,
   "id": "8cfae5a5",
   "metadata": {},
   "outputs": [
    {
     "data": {
      "text/html": [
       "<div>\n",
       "<style scoped>\n",
       "    .dataframe tbody tr th:only-of-type {\n",
       "        vertical-align: middle;\n",
       "    }\n",
       "\n",
       "    .dataframe tbody tr th {\n",
       "        vertical-align: top;\n",
       "    }\n",
       "\n",
       "    .dataframe thead th {\n",
       "        text-align: right;\n",
       "    }\n",
       "</style>\n",
       "<table border=\"1\" class=\"dataframe\">\n",
       "  <thead>\n",
       "    <tr style=\"text-align: right;\">\n",
       "      <th></th>\n",
       "      <th>Alcohol</th>\n",
       "      <th>Malic_Acid</th>\n",
       "      <th>Ash</th>\n",
       "      <th>Ash_Alcanity</th>\n",
       "      <th>Magnesium</th>\n",
       "      <th>Total_Phenols</th>\n",
       "      <th>Flavanoids</th>\n",
       "      <th>Nonflavanoid_Phenols</th>\n",
       "      <th>Proanthocyanins</th>\n",
       "      <th>Color_Intensity</th>\n",
       "      <th>Hue</th>\n",
       "      <th>OD280</th>\n",
       "      <th>Proline</th>\n",
       "    </tr>\n",
       "  </thead>\n",
       "  <tbody>\n",
       "    <tr>\n",
       "      <th>count</th>\n",
       "      <td>178.000000</td>\n",
       "      <td>178.000000</td>\n",
       "      <td>178.000000</td>\n",
       "      <td>178.000000</td>\n",
       "      <td>178.000000</td>\n",
       "      <td>178.000000</td>\n",
       "      <td>178.000000</td>\n",
       "      <td>178.000000</td>\n",
       "      <td>178.000000</td>\n",
       "      <td>178.000000</td>\n",
       "      <td>178.000000</td>\n",
       "      <td>178.000000</td>\n",
       "      <td>178.000000</td>\n",
       "    </tr>\n",
       "    <tr>\n",
       "      <th>mean</th>\n",
       "      <td>13.000618</td>\n",
       "      <td>2.336348</td>\n",
       "      <td>2.366517</td>\n",
       "      <td>19.494944</td>\n",
       "      <td>99.741573</td>\n",
       "      <td>2.295112</td>\n",
       "      <td>2.029270</td>\n",
       "      <td>0.361854</td>\n",
       "      <td>1.590899</td>\n",
       "      <td>5.058090</td>\n",
       "      <td>0.957449</td>\n",
       "      <td>2.611685</td>\n",
       "      <td>746.893258</td>\n",
       "    </tr>\n",
       "    <tr>\n",
       "      <th>std</th>\n",
       "      <td>0.811827</td>\n",
       "      <td>1.117146</td>\n",
       "      <td>0.274344</td>\n",
       "      <td>3.339564</td>\n",
       "      <td>14.282484</td>\n",
       "      <td>0.625851</td>\n",
       "      <td>0.998859</td>\n",
       "      <td>0.124453</td>\n",
       "      <td>0.572359</td>\n",
       "      <td>2.318286</td>\n",
       "      <td>0.228572</td>\n",
       "      <td>0.709990</td>\n",
       "      <td>314.907474</td>\n",
       "    </tr>\n",
       "    <tr>\n",
       "      <th>min</th>\n",
       "      <td>11.030000</td>\n",
       "      <td>0.740000</td>\n",
       "      <td>1.360000</td>\n",
       "      <td>10.600000</td>\n",
       "      <td>70.000000</td>\n",
       "      <td>0.980000</td>\n",
       "      <td>0.340000</td>\n",
       "      <td>0.130000</td>\n",
       "      <td>0.410000</td>\n",
       "      <td>1.280000</td>\n",
       "      <td>0.480000</td>\n",
       "      <td>1.270000</td>\n",
       "      <td>278.000000</td>\n",
       "    </tr>\n",
       "    <tr>\n",
       "      <th>25%</th>\n",
       "      <td>12.362500</td>\n",
       "      <td>1.602500</td>\n",
       "      <td>2.210000</td>\n",
       "      <td>17.200000</td>\n",
       "      <td>88.000000</td>\n",
       "      <td>1.742500</td>\n",
       "      <td>1.205000</td>\n",
       "      <td>0.270000</td>\n",
       "      <td>1.250000</td>\n",
       "      <td>3.220000</td>\n",
       "      <td>0.782500</td>\n",
       "      <td>1.937500</td>\n",
       "      <td>500.500000</td>\n",
       "    </tr>\n",
       "    <tr>\n",
       "      <th>50%</th>\n",
       "      <td>13.050000</td>\n",
       "      <td>1.865000</td>\n",
       "      <td>2.360000</td>\n",
       "      <td>19.500000</td>\n",
       "      <td>98.000000</td>\n",
       "      <td>2.355000</td>\n",
       "      <td>2.135000</td>\n",
       "      <td>0.340000</td>\n",
       "      <td>1.555000</td>\n",
       "      <td>4.690000</td>\n",
       "      <td>0.965000</td>\n",
       "      <td>2.780000</td>\n",
       "      <td>673.500000</td>\n",
       "    </tr>\n",
       "    <tr>\n",
       "      <th>75%</th>\n",
       "      <td>13.677500</td>\n",
       "      <td>3.082500</td>\n",
       "      <td>2.557500</td>\n",
       "      <td>21.500000</td>\n",
       "      <td>107.000000</td>\n",
       "      <td>2.800000</td>\n",
       "      <td>2.875000</td>\n",
       "      <td>0.437500</td>\n",
       "      <td>1.950000</td>\n",
       "      <td>6.200000</td>\n",
       "      <td>1.120000</td>\n",
       "      <td>3.170000</td>\n",
       "      <td>985.000000</td>\n",
       "    </tr>\n",
       "    <tr>\n",
       "      <th>max</th>\n",
       "      <td>14.830000</td>\n",
       "      <td>5.800000</td>\n",
       "      <td>3.230000</td>\n",
       "      <td>30.000000</td>\n",
       "      <td>162.000000</td>\n",
       "      <td>3.880000</td>\n",
       "      <td>5.080000</td>\n",
       "      <td>0.660000</td>\n",
       "      <td>3.580000</td>\n",
       "      <td>13.000000</td>\n",
       "      <td>1.710000</td>\n",
       "      <td>4.000000</td>\n",
       "      <td>1680.000000</td>\n",
       "    </tr>\n",
       "  </tbody>\n",
       "</table>\n",
       "</div>"
      ],
      "text/plain": [
       "          Alcohol  Malic_Acid         Ash  Ash_Alcanity   Magnesium  \\\n",
       "count  178.000000  178.000000  178.000000    178.000000  178.000000   \n",
       "mean    13.000618    2.336348    2.366517     19.494944   99.741573   \n",
       "std      0.811827    1.117146    0.274344      3.339564   14.282484   \n",
       "min     11.030000    0.740000    1.360000     10.600000   70.000000   \n",
       "25%     12.362500    1.602500    2.210000     17.200000   88.000000   \n",
       "50%     13.050000    1.865000    2.360000     19.500000   98.000000   \n",
       "75%     13.677500    3.082500    2.557500     21.500000  107.000000   \n",
       "max     14.830000    5.800000    3.230000     30.000000  162.000000   \n",
       "\n",
       "       Total_Phenols  Flavanoids  Nonflavanoid_Phenols  Proanthocyanins  \\\n",
       "count     178.000000  178.000000            178.000000       178.000000   \n",
       "mean        2.295112    2.029270              0.361854         1.590899   \n",
       "std         0.625851    0.998859              0.124453         0.572359   \n",
       "min         0.980000    0.340000              0.130000         0.410000   \n",
       "25%         1.742500    1.205000              0.270000         1.250000   \n",
       "50%         2.355000    2.135000              0.340000         1.555000   \n",
       "75%         2.800000    2.875000              0.437500         1.950000   \n",
       "max         3.880000    5.080000              0.660000         3.580000   \n",
       "\n",
       "       Color_Intensity         Hue       OD280      Proline  \n",
       "count       178.000000  178.000000  178.000000   178.000000  \n",
       "mean          5.058090    0.957449    2.611685   746.893258  \n",
       "std           2.318286    0.228572    0.709990   314.907474  \n",
       "min           1.280000    0.480000    1.270000   278.000000  \n",
       "25%           3.220000    0.782500    1.937500   500.500000  \n",
       "50%           4.690000    0.965000    2.780000   673.500000  \n",
       "75%           6.200000    1.120000    3.170000   985.000000  \n",
       "max          13.000000    1.710000    4.000000  1680.000000  "
      ]
     },
     "execution_count": 6,
     "metadata": {},
     "output_type": "execute_result"
    }
   ],
   "source": [
    "data.describe()"
   ]
  },
  {
   "cell_type": "code",
   "execution_count": 7,
   "id": "26597bc1",
   "metadata": {},
   "outputs": [
    {
     "data": {
      "text/plain": [
       "Alcohol                 0\n",
       "Malic_Acid              0\n",
       "Ash                     0\n",
       "Ash_Alcanity            0\n",
       "Magnesium               0\n",
       "Total_Phenols           0\n",
       "Flavanoids              0\n",
       "Nonflavanoid_Phenols    0\n",
       "Proanthocyanins         0\n",
       "Color_Intensity         0\n",
       "Hue                     0\n",
       "OD280                   0\n",
       "Proline                 0\n",
       "dtype: int64"
      ]
     },
     "execution_count": 7,
     "metadata": {},
     "output_type": "execute_result"
    }
   ],
   "source": [
    "data.isna().sum()"
   ]
  },
  {
   "cell_type": "code",
   "execution_count": 8,
   "id": "af5a0560",
   "metadata": {},
   "outputs": [],
   "source": [
    "#find the number of clusters k"
   ]
  },
  {
   "cell_type": "code",
   "execution_count": 9,
   "id": "0f4fd3ba",
   "metadata": {},
   "outputs": [],
   "source": [
    "feature_set=data.iloc[:,2:4].values"
   ]
  },
  {
   "cell_type": "code",
   "execution_count": 10,
   "id": "53fd0b6c",
   "metadata": {},
   "outputs": [
    {
     "data": {
      "text/plain": [
       "array([[ 2.43, 15.6 ],\n",
       "       [ 2.14, 11.2 ],\n",
       "       [ 2.67, 18.6 ],\n",
       "       [ 2.5 , 16.8 ],\n",
       "       [ 2.87, 21.  ],\n",
       "       [ 2.45, 15.2 ],\n",
       "       [ 2.45, 14.6 ],\n",
       "       [ 2.61, 17.6 ],\n",
       "       [ 2.17, 14.  ],\n",
       "       [ 2.27, 16.  ],\n",
       "       [ 2.3 , 18.  ],\n",
       "       [ 2.32, 16.8 ],\n",
       "       [ 2.41, 16.  ],\n",
       "       [ 2.39, 11.4 ],\n",
       "       [ 2.38, 12.  ],\n",
       "       [ 2.7 , 17.2 ],\n",
       "       [ 2.72, 20.  ],\n",
       "       [ 2.62, 20.  ],\n",
       "       [ 2.48, 16.5 ],\n",
       "       [ 2.56, 15.2 ],\n",
       "       [ 2.28, 16.  ],\n",
       "       [ 2.65, 18.6 ],\n",
       "       [ 2.36, 16.6 ],\n",
       "       [ 2.52, 17.8 ],\n",
       "       [ 2.61, 20.  ],\n",
       "       [ 3.22, 25.  ],\n",
       "       [ 2.62, 16.1 ],\n",
       "       [ 2.14, 17.  ],\n",
       "       [ 2.8 , 19.4 ],\n",
       "       [ 2.21, 16.  ],\n",
       "       [ 2.7 , 22.5 ],\n",
       "       [ 2.36, 19.1 ],\n",
       "       [ 2.36, 17.2 ],\n",
       "       [ 2.7 , 19.5 ],\n",
       "       [ 2.65, 19.  ],\n",
       "       [ 2.41, 20.5 ],\n",
       "       [ 2.84, 15.5 ],\n",
       "       [ 2.55, 18.  ],\n",
       "       [ 2.1 , 15.5 ],\n",
       "       [ 2.51, 13.2 ],\n",
       "       [ 2.31, 16.2 ],\n",
       "       [ 2.12, 18.8 ],\n",
       "       [ 2.59, 15.  ],\n",
       "       [ 2.29, 17.5 ],\n",
       "       [ 2.1 , 17.  ],\n",
       "       [ 2.44, 18.9 ],\n",
       "       [ 2.28, 16.  ],\n",
       "       [ 2.12, 16.  ],\n",
       "       [ 2.4 , 18.8 ],\n",
       "       [ 2.27, 17.4 ],\n",
       "       [ 2.04, 12.4 ],\n",
       "       [ 2.6 , 17.2 ],\n",
       "       [ 2.42, 14.  ],\n",
       "       [ 2.68, 17.1 ],\n",
       "       [ 2.25, 16.4 ],\n",
       "       [ 2.46, 20.5 ],\n",
       "       [ 2.3 , 16.3 ],\n",
       "       [ 2.68, 16.8 ],\n",
       "       [ 2.5 , 16.7 ],\n",
       "       [ 1.36, 10.6 ],\n",
       "       [ 2.28, 16.  ],\n",
       "       [ 2.02, 16.8 ],\n",
       "       [ 1.92, 18.  ],\n",
       "       [ 2.16, 19.  ],\n",
       "       [ 2.53, 19.  ],\n",
       "       [ 2.56, 18.1 ],\n",
       "       [ 1.7 , 15.  ],\n",
       "       [ 1.92, 19.6 ],\n",
       "       [ 2.36, 17.  ],\n",
       "       [ 1.75, 16.8 ],\n",
       "       [ 2.21, 20.4 ],\n",
       "       [ 2.67, 25.  ],\n",
       "       [ 2.24, 24.  ],\n",
       "       [ 2.6 , 30.  ],\n",
       "       [ 2.3 , 21.  ],\n",
       "       [ 1.92, 16.  ],\n",
       "       [ 1.71, 16.  ],\n",
       "       [ 2.23, 18.  ],\n",
       "       [ 1.95, 14.8 ],\n",
       "       [ 2.4 , 23.  ],\n",
       "       [ 2.  , 19.  ],\n",
       "       [ 2.2 , 18.8 ],\n",
       "       [ 2.51, 24.  ],\n",
       "       [ 2.32, 22.5 ],\n",
       "       [ 2.58, 18.  ],\n",
       "       [ 2.24, 18.  ],\n",
       "       [ 2.31, 22.8 ],\n",
       "       [ 2.62, 26.  ],\n",
       "       [ 2.46, 21.6 ],\n",
       "       [ 2.3 , 23.6 ],\n",
       "       [ 2.32, 18.5 ],\n",
       "       [ 2.42, 22.  ],\n",
       "       [ 2.26, 20.7 ],\n",
       "       [ 2.22, 18.  ],\n",
       "       [ 2.28, 18.  ],\n",
       "       [ 2.2 , 19.  ],\n",
       "       [ 2.74, 21.5 ],\n",
       "       [ 1.98, 16.  ],\n",
       "       [ 2.1 , 18.5 ],\n",
       "       [ 2.21, 18.  ],\n",
       "       [ 1.7 , 17.5 ],\n",
       "       [ 1.9 , 18.5 ],\n",
       "       [ 2.46, 21.  ],\n",
       "       [ 1.88, 19.5 ],\n",
       "       [ 1.98, 20.5 ],\n",
       "       [ 2.27, 22.  ],\n",
       "       [ 2.12, 19.  ],\n",
       "       [ 2.28, 22.5 ],\n",
       "       [ 1.94, 19.  ],\n",
       "       [ 2.7 , 20.  ],\n",
       "       [ 1.82, 19.5 ],\n",
       "       [ 2.17, 21.  ],\n",
       "       [ 2.92, 20.  ],\n",
       "       [ 2.5 , 21.  ],\n",
       "       [ 2.5 , 22.5 ],\n",
       "       [ 2.2 , 21.5 ],\n",
       "       [ 1.99, 20.8 ],\n",
       "       [ 2.19, 22.5 ],\n",
       "       [ 1.98, 16.  ],\n",
       "       [ 2.  , 19.  ],\n",
       "       [ 2.42, 20.  ],\n",
       "       [ 3.23, 28.5 ],\n",
       "       [ 2.73, 26.5 ],\n",
       "       [ 2.13, 21.5 ],\n",
       "       [ 2.39, 21.  ],\n",
       "       [ 2.17, 21.  ],\n",
       "       [ 2.29, 21.5 ],\n",
       "       [ 2.78, 28.5 ],\n",
       "       [ 2.3 , 24.5 ],\n",
       "       [ 2.38, 22.  ],\n",
       "       [ 2.32, 18.  ],\n",
       "       [ 2.4 , 20.  ],\n",
       "       [ 2.4 , 24.  ],\n",
       "       [ 2.36, 21.5 ],\n",
       "       [ 2.25, 17.5 ],\n",
       "       [ 2.2 , 18.5 ],\n",
       "       [ 2.54, 21.  ],\n",
       "       [ 2.64, 25.  ],\n",
       "       [ 2.19, 19.5 ],\n",
       "       [ 2.61, 24.  ],\n",
       "       [ 2.7 , 21.  ],\n",
       "       [ 2.35, 20.  ],\n",
       "       [ 2.72, 23.5 ],\n",
       "       [ 2.35, 20.  ],\n",
       "       [ 2.2 , 18.5 ],\n",
       "       [ 2.15, 21.  ],\n",
       "       [ 2.23, 20.  ],\n",
       "       [ 2.48, 21.5 ],\n",
       "       [ 2.38, 21.5 ],\n",
       "       [ 2.36, 21.5 ],\n",
       "       [ 2.62, 24.  ],\n",
       "       [ 2.48, 22.  ],\n",
       "       [ 2.75, 25.5 ],\n",
       "       [ 2.28, 18.5 ],\n",
       "       [ 2.1 , 20.  ],\n",
       "       [ 2.32, 22.  ],\n",
       "       [ 2.38, 19.5 ],\n",
       "       [ 2.64, 27.  ],\n",
       "       [ 2.7 , 25.  ],\n",
       "       [ 2.64, 22.5 ],\n",
       "       [ 2.38, 21.  ],\n",
       "       [ 2.54, 20.  ],\n",
       "       [ 2.58, 22.  ],\n",
       "       [ 2.35, 18.5 ],\n",
       "       [ 2.3 , 22.  ],\n",
       "       [ 2.26, 22.5 ],\n",
       "       [ 2.6 , 23.  ],\n",
       "       [ 2.3 , 19.5 ],\n",
       "       [ 2.69, 24.5 ],\n",
       "       [ 2.86, 25.  ],\n",
       "       [ 2.32, 19.  ],\n",
       "       [ 2.28, 19.5 ],\n",
       "       [ 2.48, 20.  ],\n",
       "       [ 2.45, 20.5 ],\n",
       "       [ 2.48, 23.  ],\n",
       "       [ 2.26, 20.  ],\n",
       "       [ 2.37, 20.  ],\n",
       "       [ 2.74, 24.5 ]])"
      ]
     },
     "execution_count": 10,
     "metadata": {},
     "output_type": "execute_result"
    }
   ],
   "source": [
    "feature_set"
   ]
  },
  {
   "cell_type": "code",
   "execution_count": 11,
   "id": "6adad2a6",
   "metadata": {},
   "outputs": [],
   "source": [
    "#Elbow method: find optimal value of k"
   ]
  },
  {
   "cell_type": "code",
   "execution_count": 12,
   "id": "ffc1b8fb",
   "metadata": {},
   "outputs": [
    {
     "name": "stderr",
     "output_type": "stream",
     "text": [
      "C:\\Users\\Reshma\\anaconda3\\lib\\site-packages\\sklearn\\cluster\\_kmeans.py:881: UserWarning: KMeans is known to have a memory leak on Windows with MKL, when there are less chunks than available threads. You can avoid it by setting the environment variable OMP_NUM_THREADS=1.\n",
      "  warnings.warn(\n"
     ]
    }
   ],
   "source": [
    "wcss=[]\n",
    "from sklearn.cluster import KMeans\n",
    "for i in range(1,11):\n",
    "    km=KMeans(n_clusters=i,init='k-means++',n_init=10,random_state=101)\n",
    "    km.fit(feature_set)\n",
    "    wcss.append(km.inertia_)"
   ]
  },
  {
   "cell_type": "code",
   "execution_count": 13,
   "id": "6debef53",
   "metadata": {},
   "outputs": [
    {
     "data": {
      "text/plain": [
       "[1987.34728988764,\n",
       " 787.3269211868686,\n",
       " 419.91348895348847,\n",
       " 271.73241508354835,\n",
       " 171.18258639231306,\n",
       " 121.64523370111536,\n",
       " 88.99238303713383,\n",
       " 68.48332320381232,\n",
       " 57.03858872153392,\n",
       " 47.81473846609041]"
      ]
     },
     "execution_count": 13,
     "metadata": {},
     "output_type": "execute_result"
    }
   ],
   "source": [
    "wcss"
   ]
  },
  {
   "cell_type": "markdown",
   "id": "d0707047",
   "metadata": {},
   "source": [
    "# Elbow Method"
   ]
  },
  {
   "cell_type": "code",
   "execution_count": 14,
   "id": "62bcac19",
   "metadata": {},
   "outputs": [
    {
     "data": {
      "image/png": "[encoded data removed]",
      "text/plain": [
       "<Figure size 720x576 with 1 Axes>"
      ]
     },
     "metadata": {
      "needs_background": "light"
     },
     "output_type": "display_data"
    }
   ],
   "source": [
    "plt.figure(figsize=(10,8))\n",
    "plt.plot(range(1,11),wcss)\n",
    "plt.xlabel(\"No of cluster\")\n",
    "plt.ylabel(\"WCSS score\")\n",
    "plt.show()"
   ]
  },
  {
   "cell_type": "markdown",
   "id": "3a2d479d",
   "metadata": {},
   "source": [
    "# Elbow found at k=5 and k=3. Hence lets build both models and compare silhouette score to find the optimal value of k"
   ]
  },
  {
   "cell_type": "code",
   "execution_count": 16,
   "id": "22898712",
   "metadata": {},
   "outputs": [],
   "source": [
    "#Build model with k=5"
   ]
  },
  {
   "cell_type": "code",
   "execution_count": 17,
   "id": "fca11436",
   "metadata": {},
   "outputs": [
    {
     "data": {
      "text/plain": [
       "KMeans(n_clusters=5, random_state=101)"
      ]
     },
     "execution_count": 17,
     "metadata": {},
     "output_type": "execute_result"
    }
   ],
   "source": [
    "km=KMeans(n_clusters=5,init='k-means++',n_init=10,random_state=101)\n",
    "km.fit(feature_set)"
   ]
  },
  {
   "cell_type": "code",
   "execution_count": 18,
   "id": "db0fcee4",
   "metadata": {},
   "outputs": [],
   "source": [
    "data['km_cluster']=km.labels_"
   ]
  },
  {
   "cell_type": "code",
   "execution_count": 19,
   "id": "99144267",
   "metadata": {},
   "outputs": [
    {
     "data": {
      "text/html": [
       "<div>\n",
       "<style scoped>\n",
       "    .dataframe tbody tr th:only-of-type {\n",
       "        vertical-align: middle;\n",
       "    }\n",
       "\n",
       "    .dataframe tbody tr th {\n",
       "        vertical-align: top;\n",
       "    }\n",
       "\n",
       "    .dataframe thead th {\n",
       "        text-align: right;\n",
       "    }\n",
       "</style>\n",
       "<table border=\"1\" class=\"dataframe\">\n",
       "  <thead>\n",
       "    <tr style=\"text-align: right;\">\n",
       "      <th></th>\n",
       "      <th>Alcohol</th>\n",
       "      <th>Malic_Acid</th>\n",
       "      <th>Ash</th>\n",
       "      <th>Ash_Alcanity</th>\n",
       "      <th>Magnesium</th>\n",
       "      <th>Total_Phenols</th>\n",
       "      <th>Flavanoids</th>\n",
       "      <th>Nonflavanoid_Phenols</th>\n",
       "      <th>Proanthocyanins</th>\n",
       "      <th>Color_Intensity</th>\n",
       "      <th>Hue</th>\n",
       "      <th>OD280</th>\n",
       "      <th>Proline</th>\n",
       "      <th>km_cluster</th>\n",
       "    </tr>\n",
       "  </thead>\n",
       "  <tbody>\n",
       "    <tr>\n",
       "      <th>0</th>\n",
       "      <td>14.23</td>\n",
       "      <td>1.71</td>\n",
       "      <td>2.43</td>\n",
       "      <td>15.6</td>\n",
       "      <td>127</td>\n",
       "      <td>2.80</td>\n",
       "      <td>3.06</td>\n",
       "      <td>0.28</td>\n",
       "      <td>2.29</td>\n",
       "      <td>5.64</td>\n",
       "      <td>1.04</td>\n",
       "      <td>3.92</td>\n",
       "      <td>1065</td>\n",
       "      <td>1</td>\n",
       "    </tr>\n",
       "    <tr>\n",
       "      <th>1</th>\n",
       "      <td>13.20</td>\n",
       "      <td>1.78</td>\n",
       "      <td>2.14</td>\n",
       "      <td>11.2</td>\n",
       "      <td>100</td>\n",
       "      <td>2.65</td>\n",
       "      <td>2.76</td>\n",
       "      <td>0.26</td>\n",
       "      <td>1.28</td>\n",
       "      <td>4.38</td>\n",
       "      <td>1.05</td>\n",
       "      <td>3.40</td>\n",
       "      <td>1050</td>\n",
       "      <td>3</td>\n",
       "    </tr>\n",
       "    <tr>\n",
       "      <th>2</th>\n",
       "      <td>13.16</td>\n",
       "      <td>2.36</td>\n",
       "      <td>2.67</td>\n",
       "      <td>18.6</td>\n",
       "      <td>101</td>\n",
       "      <td>2.80</td>\n",
       "      <td>3.24</td>\n",
       "      <td>0.30</td>\n",
       "      <td>2.81</td>\n",
       "      <td>5.68</td>\n",
       "      <td>1.03</td>\n",
       "      <td>3.17</td>\n",
       "      <td>1185</td>\n",
       "      <td>4</td>\n",
       "    </tr>\n",
       "    <tr>\n",
       "      <th>3</th>\n",
       "      <td>14.37</td>\n",
       "      <td>1.95</td>\n",
       "      <td>2.50</td>\n",
       "      <td>16.8</td>\n",
       "      <td>113</td>\n",
       "      <td>3.85</td>\n",
       "      <td>3.49</td>\n",
       "      <td>0.24</td>\n",
       "      <td>2.18</td>\n",
       "      <td>7.80</td>\n",
       "      <td>0.86</td>\n",
       "      <td>3.45</td>\n",
       "      <td>1480</td>\n",
       "      <td>1</td>\n",
       "    </tr>\n",
       "    <tr>\n",
       "      <th>4</th>\n",
       "      <td>13.24</td>\n",
       "      <td>2.59</td>\n",
       "      <td>2.87</td>\n",
       "      <td>21.0</td>\n",
       "      <td>118</td>\n",
       "      <td>2.80</td>\n",
       "      <td>2.69</td>\n",
       "      <td>0.39</td>\n",
       "      <td>1.82</td>\n",
       "      <td>4.32</td>\n",
       "      <td>1.04</td>\n",
       "      <td>2.93</td>\n",
       "      <td>735</td>\n",
       "      <td>2</td>\n",
       "    </tr>\n",
       "    <tr>\n",
       "      <th>5</th>\n",
       "      <td>14.20</td>\n",
       "      <td>1.76</td>\n",
       "      <td>2.45</td>\n",
       "      <td>15.2</td>\n",
       "      <td>112</td>\n",
       "      <td>3.27</td>\n",
       "      <td>3.39</td>\n",
       "      <td>0.34</td>\n",
       "      <td>1.97</td>\n",
       "      <td>6.75</td>\n",
       "      <td>1.05</td>\n",
       "      <td>2.85</td>\n",
       "      <td>1450</td>\n",
       "      <td>1</td>\n",
       "    </tr>\n",
       "    <tr>\n",
       "      <th>6</th>\n",
       "      <td>14.39</td>\n",
       "      <td>1.87</td>\n",
       "      <td>2.45</td>\n",
       "      <td>14.6</td>\n",
       "      <td>96</td>\n",
       "      <td>2.50</td>\n",
       "      <td>2.52</td>\n",
       "      <td>0.30</td>\n",
       "      <td>1.98</td>\n",
       "      <td>5.25</td>\n",
       "      <td>1.02</td>\n",
       "      <td>3.58</td>\n",
       "      <td>1290</td>\n",
       "      <td>1</td>\n",
       "    </tr>\n",
       "    <tr>\n",
       "      <th>7</th>\n",
       "      <td>14.06</td>\n",
       "      <td>2.15</td>\n",
       "      <td>2.61</td>\n",
       "      <td>17.6</td>\n",
       "      <td>121</td>\n",
       "      <td>2.60</td>\n",
       "      <td>2.51</td>\n",
       "      <td>0.31</td>\n",
       "      <td>1.25</td>\n",
       "      <td>5.05</td>\n",
       "      <td>1.06</td>\n",
       "      <td>3.58</td>\n",
       "      <td>1295</td>\n",
       "      <td>1</td>\n",
       "    </tr>\n",
       "    <tr>\n",
       "      <th>8</th>\n",
       "      <td>14.83</td>\n",
       "      <td>1.64</td>\n",
       "      <td>2.17</td>\n",
       "      <td>14.0</td>\n",
       "      <td>97</td>\n",
       "      <td>2.80</td>\n",
       "      <td>2.98</td>\n",
       "      <td>0.29</td>\n",
       "      <td>1.98</td>\n",
       "      <td>5.20</td>\n",
       "      <td>1.08</td>\n",
       "      <td>2.85</td>\n",
       "      <td>1045</td>\n",
       "      <td>3</td>\n",
       "    </tr>\n",
       "    <tr>\n",
       "      <th>9</th>\n",
       "      <td>13.86</td>\n",
       "      <td>1.35</td>\n",
       "      <td>2.27</td>\n",
       "      <td>16.0</td>\n",
       "      <td>98</td>\n",
       "      <td>2.98</td>\n",
       "      <td>3.15</td>\n",
       "      <td>0.22</td>\n",
       "      <td>1.85</td>\n",
       "      <td>7.22</td>\n",
       "      <td>1.01</td>\n",
       "      <td>3.55</td>\n",
       "      <td>1045</td>\n",
       "      <td>1</td>\n",
       "    </tr>\n",
       "  </tbody>\n",
       "</table>\n",
       "</div>"
      ],
      "text/plain": [
       "   Alcohol  Malic_Acid   Ash  Ash_Alcanity  Magnesium  Total_Phenols  \\\n",
       "0    14.23        1.71  2.43          15.6        127           2.80   \n",
       "1    13.20        1.78  2.14          11.2        100           2.65   \n",
       "2    13.16        2.36  2.67          18.6        101           2.80   \n",
       "3    14.37        1.95  2.50          16.8        113           3.85   \n",
       "4    13.24        2.59  2.87          21.0        118           2.80   \n",
       "5    14.20        1.76  2.45          15.2        112           3.27   \n",
       "6    14.39        1.87  2.45          14.6         96           2.50   \n",
       "7    14.06        2.15  2.61          17.6        121           2.60   \n",
       "8    14.83        1.64  2.17          14.0         97           2.80   \n",
       "9    13.86        1.35  2.27          16.0         98           2.98   \n",
       "\n",
       "   Flavanoids  Nonflavanoid_Phenols  Proanthocyanins  Color_Intensity   Hue  \\\n",
       "0        3.06                  0.28             2.29             5.64  1.04   \n",
       "1        2.76                  0.26             1.28             4.38  1.05   \n",
       "2        3.24                  0.30             2.81             5.68  1.03   \n",
       "3        3.49                  0.24             2.18             7.80  0.86   \n",
       "4        2.69                  0.39             1.82             4.32  1.04   \n",
       "5        3.39                  0.34             1.97             6.75  1.05   \n",
       "6        2.52                  0.30             1.98             5.25  1.02   \n",
       "7        2.51                  0.31             1.25             5.05  1.06   \n",
       "8        2.98                  0.29             1.98             5.20  1.08   \n",
       "9        3.15                  0.22             1.85             7.22  1.01   \n",
       "\n",
       "   OD280  Proline  km_cluster  \n",
       "0   3.92     1065           1  \n",
       "1   3.40     1050           3  \n",
       "2   3.17     1185           4  \n",
       "3   3.45     1480           1  \n",
       "4   2.93      735           2  \n",
       "5   2.85     1450           1  \n",
       "6   3.58     1290           1  \n",
       "7   3.58     1295           1  \n",
       "8   2.85     1045           3  \n",
       "9   3.55     1045           1  "
      ]
     },
     "execution_count": 19,
     "metadata": {},
     "output_type": "execute_result"
    }
   ],
   "source": [
    "data.head(10)"
   ]
  },
  {
   "cell_type": "code",
   "execution_count": 20,
   "id": "903cca46",
   "metadata": {},
   "outputs": [
    {
     "data": {
      "image/png": "[encoded data removed]",
      "text/plain": [
       "<Figure size 432x288 with 1 Axes>"
      ]
     },
     "metadata": {
      "needs_background": "light"
     },
     "output_type": "display_data"
    }
   ],
   "source": [
    "#Visualise clustering output\n",
    "plt.scatter(data[\"Ash\"],data[\"Ash_Alcanity\"],c=data[\"km_cluster\"])\n",
    "plt.show()"
   ]
  },
  {
   "cell_type": "code",
   "execution_count": 21,
   "id": "db9feb1b",
   "metadata": {},
   "outputs": [],
   "source": [
    "#To check how clusters are formed for k varying from 3 to 7"
   ]
  },
  {
   "cell_type": "code",
   "execution_count": 26,
   "id": "3c5a5974",
   "metadata": {},
   "outputs": [
    {
     "name": "stdout",
     "output_type": "stream",
     "text": [
      "[2 2 0 2 0 2 2 2 2 2 0 2 2 2 2 2 0 0 2 2 2 0 2 0 0 1 2 2 0 2 1 0 2 0 0 0 2\n",
      " 0 2 2 2 0 2 2 2 0 2 2 0 2 2 2 2 2 2 0 2 2 2 2 2 2 0 0 0 0 2 0 2 2 0 1 1 1\n",
      " 0 2 2 0 2 1 0 0 1 1 0 0 1 1 0 1 0 1 0 0 0 0 0 2 0 0 2 0 0 0 0 1 0 1 0 0 0\n",
      " 0 0 0 1 0 0 1 2 0 0 1 1 0 0 0 0 1 1 1 0 0 1 0 2 0 0 1 0 1 0 0 1 0 0 0 0 0\n",
      " 0 0 1 1 1 0 0 1 0 1 1 1 0 0 1 0 1 1 1 0 1 1 0 0 0 0 1 0 0 1]\n",
      "[2 2 0 2 3 2 2 0 2 2 0 2 2 2 2 2 0 0 2 2 2 0 2 0 0 1 2 2 0 2 3 0 2 0 0 3 2\n",
      " 0 2 2 2 0 2 0 2 0 2 2 0 0 2 2 2 2 2 3 2 2 2 2 2 2 0 0 0 0 2 0 2 2 3 1 1 1\n",
      " 3 2 2 0 2 3 0 0 1 3 0 0 3 1 3 1 0 3 3 0 0 0 3 2 0 0 0 0 3 0 3 3 0 3 0 0 0\n",
      " 3 0 3 3 3 3 3 2 0 0 1 1 3 3 3 3 1 1 3 0 0 1 3 0 0 3 1 0 1 3 0 1 0 0 3 0 3\n",
      " 3 3 1 3 1 0 0 3 0 1 1 3 3 0 3 0 3 3 3 0 1 1 0 0 0 3 3 0 0 1]\n",
      "[1 3 4 1 2 1 1 1 3 1 4 1 1 3 3 1 4 4 1 1 1 4 1 4 4 0 1 1 4 1 2 4 1 4 4 2 1\n",
      " 4 1 3 1 4 1 1 1 4 1 1 4 1 3 1 3 1 1 2 1 1 1 3 1 1 4 4 4 4 1 4 1 1 2 0 0 0\n",
      " 2 1 1 4 1 2 4 4 0 2 4 4 2 0 2 0 4 2 2 4 4 4 2 1 4 4 1 4 2 4 2 2 4 2 4 4 4\n",
      " 2 4 2 2 2 2 2 1 4 4 0 0 2 2 2 2 0 0 2 4 4 0 2 1 4 2 0 4 0 2 4 0 4 4 2 4 2\n",
      " 2 2 0 2 0 4 4 2 4 0 0 2 2 4 2 4 2 2 2 4 0 0 4 4 4 2 2 4 4 0]\n",
      "[1 5 3 1 0 1 1 1 5 1 3 1 1 5 5 1 3 3 1 1 1 3 1 3 3 4 1 1 3 1 0 3 1 3 3 0 1\n",
      " 3 1 5 1 3 1 1 1 3 1 1 3 1 5 1 5 1 1 0 1 1 1 5 1 1 3 3 3 3 1 3 1 1 0 4 4 2\n",
      " 0 1 1 3 1 4 3 3 4 0 3 3 0 4 0 4 3 0 0 3 3 3 0 1 3 3 1 3 0 3 0 0 3 0 3 3 3\n",
      " 0 3 0 0 0 0 0 1 3 3 2 2 0 0 0 0 2 4 0 3 3 4 0 1 3 0 4 3 4 0 3 4 3 3 0 3 0\n",
      " 0 0 4 0 4 3 3 0 3 2 4 0 0 3 0 3 0 0 4 3 4 4 3 3 3 0 4 3 3 4]\n",
      "[0 3 6 0 2 0 0 6 0 0 6 0 0 3 3 6 2 2 0 0 0 6 0 6 2 5 0 0 2 0 1 6 6 2 6 2 0\n",
      " 6 0 3 0 6 0 6 0 6 0 0 6 6 3 6 0 0 0 2 0 0 0 3 0 0 6 6 6 6 0 2 0 0 2 5 5 4\n",
      " 2 0 0 6 0 1 6 6 5 1 6 6 1 5 1 5 6 1 2 6 6 6 1 0 6 6 6 6 2 2 2 1 6 1 6 2 2\n",
      " 2 2 2 1 1 2 1 0 6 2 4 4 1 2 2 1 4 5 1 6 2 5 1 6 6 2 5 2 5 2 2 5 2 6 2 2 1\n",
      " 1 1 5 1 5 6 2 1 2 4 5 1 2 2 1 6 1 1 1 2 5 5 6 2 2 2 1 2 2 5]\n"
     ]
    }
   ],
   "source": [
    "for i in range(3,8):\n",
    "    km=KMeans(n_clusters=i,init=\"k-means++\",n_init=10,random_state=101)\n",
    "    km.fit(feature_set)\n",
    "    data[f'km_{i}']=km.labels_\n",
    "    y_km=km.fit_predict(feature_set)\n",
    "    print(y_km)"
   ]
  },
  {
   "cell_type": "code",
   "execution_count": 23,
   "id": "37ed5893",
   "metadata": {},
   "outputs": [
    {
     "data": {
      "text/html": [
       "<div>\n",
       "<style scoped>\n",
       "    .dataframe tbody tr th:only-of-type {\n",
       "        vertical-align: middle;\n",
       "    }\n",
       "\n",
       "    .dataframe tbody tr th {\n",
       "        vertical-align: top;\n",
       "    }\n",
       "\n",
       "    .dataframe thead th {\n",
       "        text-align: right;\n",
       "    }\n",
       "</style>\n",
       "<table border=\"1\" class=\"dataframe\">\n",
       "  <thead>\n",
       "    <tr style=\"text-align: right;\">\n",
       "      <th></th>\n",
       "      <th>Alcohol</th>\n",
       "      <th>Malic_Acid</th>\n",
       "      <th>Ash</th>\n",
       "      <th>Ash_Alcanity</th>\n",
       "      <th>Magnesium</th>\n",
       "      <th>Total_Phenols</th>\n",
       "      <th>Flavanoids</th>\n",
       "      <th>Nonflavanoid_Phenols</th>\n",
       "      <th>Proanthocyanins</th>\n",
       "      <th>Color_Intensity</th>\n",
       "      <th>Hue</th>\n",
       "      <th>OD280</th>\n",
       "      <th>Proline</th>\n",
       "      <th>km_cluster</th>\n",
       "      <th>km_3</th>\n",
       "      <th>km_4</th>\n",
       "      <th>km_5</th>\n",
       "      <th>km_6</th>\n",
       "      <th>km_7</th>\n",
       "    </tr>\n",
       "  </thead>\n",
       "  <tbody>\n",
       "    <tr>\n",
       "      <th>0</th>\n",
       "      <td>14.23</td>\n",
       "      <td>1.71</td>\n",
       "      <td>2.43</td>\n",
       "      <td>15.6</td>\n",
       "      <td>127</td>\n",
       "      <td>2.80</td>\n",
       "      <td>3.06</td>\n",
       "      <td>0.28</td>\n",
       "      <td>2.29</td>\n",
       "      <td>5.64</td>\n",
       "      <td>1.04</td>\n",
       "      <td>3.92</td>\n",
       "      <td>1065</td>\n",
       "      <td>1</td>\n",
       "      <td>2</td>\n",
       "      <td>2</td>\n",
       "      <td>1</td>\n",
       "      <td>1</td>\n",
       "      <td>0</td>\n",
       "    </tr>\n",
       "    <tr>\n",
       "      <th>1</th>\n",
       "      <td>13.20</td>\n",
       "      <td>1.78</td>\n",
       "      <td>2.14</td>\n",
       "      <td>11.2</td>\n",
       "      <td>100</td>\n",
       "      <td>2.65</td>\n",
       "      <td>2.76</td>\n",
       "      <td>0.26</td>\n",
       "      <td>1.28</td>\n",
       "      <td>4.38</td>\n",
       "      <td>1.05</td>\n",
       "      <td>3.40</td>\n",
       "      <td>1050</td>\n",
       "      <td>3</td>\n",
       "      <td>2</td>\n",
       "      <td>2</td>\n",
       "      <td>3</td>\n",
       "      <td>5</td>\n",
       "      <td>3</td>\n",
       "    </tr>\n",
       "    <tr>\n",
       "      <th>2</th>\n",
       "      <td>13.16</td>\n",
       "      <td>2.36</td>\n",
       "      <td>2.67</td>\n",
       "      <td>18.6</td>\n",
       "      <td>101</td>\n",
       "      <td>2.80</td>\n",
       "      <td>3.24</td>\n",
       "      <td>0.30</td>\n",
       "      <td>2.81</td>\n",
       "      <td>5.68</td>\n",
       "      <td>1.03</td>\n",
       "      <td>3.17</td>\n",
       "      <td>1185</td>\n",
       "      <td>4</td>\n",
       "      <td>0</td>\n",
       "      <td>0</td>\n",
       "      <td>4</td>\n",
       "      <td>3</td>\n",
       "      <td>6</td>\n",
       "    </tr>\n",
       "    <tr>\n",
       "      <th>3</th>\n",
       "      <td>14.37</td>\n",
       "      <td>1.95</td>\n",
       "      <td>2.50</td>\n",
       "      <td>16.8</td>\n",
       "      <td>113</td>\n",
       "      <td>3.85</td>\n",
       "      <td>3.49</td>\n",
       "      <td>0.24</td>\n",
       "      <td>2.18</td>\n",
       "      <td>7.80</td>\n",
       "      <td>0.86</td>\n",
       "      <td>3.45</td>\n",
       "      <td>1480</td>\n",
       "      <td>1</td>\n",
       "      <td>2</td>\n",
       "      <td>2</td>\n",
       "      <td>1</td>\n",
       "      <td>1</td>\n",
       "      <td>0</td>\n",
       "    </tr>\n",
       "    <tr>\n",
       "      <th>4</th>\n",
       "      <td>13.24</td>\n",
       "      <td>2.59</td>\n",
       "      <td>2.87</td>\n",
       "      <td>21.0</td>\n",
       "      <td>118</td>\n",
       "      <td>2.80</td>\n",
       "      <td>2.69</td>\n",
       "      <td>0.39</td>\n",
       "      <td>1.82</td>\n",
       "      <td>4.32</td>\n",
       "      <td>1.04</td>\n",
       "      <td>2.93</td>\n",
       "      <td>735</td>\n",
       "      <td>2</td>\n",
       "      <td>0</td>\n",
       "      <td>3</td>\n",
       "      <td>2</td>\n",
       "      <td>0</td>\n",
       "      <td>2</td>\n",
       "    </tr>\n",
       "  </tbody>\n",
       "</table>\n",
       "</div>"
      ],
      "text/plain": [
       "   Alcohol  Malic_Acid   Ash  Ash_Alcanity  Magnesium  Total_Phenols  \\\n",
       "0    14.23        1.71  2.43          15.6        127           2.80   \n",
       "1    13.20        1.78  2.14          11.2        100           2.65   \n",
       "2    13.16        2.36  2.67          18.6        101           2.80   \n",
       "3    14.37        1.95  2.50          16.8        113           3.85   \n",
       "4    13.24        2.59  2.87          21.0        118           2.80   \n",
       "\n",
       "   Flavanoids  Nonflavanoid_Phenols  Proanthocyanins  Color_Intensity   Hue  \\\n",
       "0        3.06                  0.28             2.29             5.64  1.04   \n",
       "1        2.76                  0.26             1.28             4.38  1.05   \n",
       "2        3.24                  0.30             2.81             5.68  1.03   \n",
       "3        3.49                  0.24             2.18             7.80  0.86   \n",
       "4        2.69                  0.39             1.82             4.32  1.04   \n",
       "\n",
       "   OD280  Proline  km_cluster  km_3  km_4  km_5  km_6  km_7  \n",
       "0   3.92     1065           1     2     2     1     1     0  \n",
       "1   3.40     1050           3     2     2     3     5     3  \n",
       "2   3.17     1185           4     0     0     4     3     6  \n",
       "3   3.45     1480           1     2     2     1     1     0  \n",
       "4   2.93      735           2     0     3     2     0     2  "
      ]
     },
     "execution_count": 23,
     "metadata": {},
     "output_type": "execute_result"
    }
   ],
   "source": [
    "data.head()"
   ]
  },
  {
   "cell_type": "code",
   "execution_count": null,
   "id": "ad55cc13",
   "metadata": {},
   "outputs": [],
   "source": [
    "#Build model with k=3"
   ]
  },
  {
   "cell_type": "code",
   "execution_count": 31,
   "id": "8d1f432d",
   "metadata": {},
   "outputs": [
    {
     "name": "stdout",
     "output_type": "stream",
     "text": [
      "[2 2 0 2 0 2 2 2 2 2 0 2 2 2 2 2 0 0 2 2 2 0 2 0 0 1 2 2 0 2 1 0 2 0 0 0 2\n",
      " 0 2 2 2 0 2 2 2 0 2 2 0 2 2 2 2 2 2 0 2 2 2 2 2 2 0 0 0 0 2 0 2 2 0 1 1 1\n",
      " 0 2 2 0 2 1 0 0 1 1 0 0 1 1 0 1 0 1 0 0 0 0 0 2 0 0 2 0 0 0 0 1 0 1 0 0 0\n",
      " 0 0 0 1 0 0 1 2 0 0 1 1 0 0 0 0 1 1 1 0 0 1 0 2 0 0 1 0 1 0 0 1 0 0 0 0 0\n",
      " 0 0 1 1 1 0 0 1 0 1 1 1 0 0 1 0 1 1 1 0 1 1 0 0 0 0 1 0 0 1]\n"
     ]
    }
   ],
   "source": [
    "km1=KMeans(n_clusters=3,init='k-means++',n_init=10,random_state=101)\n",
    "y_km1=km1.fit_predict(feature_set)\n",
    "print(y_km1)\n",
    "     "
   ]
  },
  {
   "cell_type": "markdown",
   "id": "f61d20f8",
   "metadata": {},
   "source": [
    "# Silhouette_score"
   ]
  },
  {
   "cell_type": "code",
   "execution_count": 32,
   "id": "c1d27670",
   "metadata": {},
   "outputs": [],
   "source": [
    "#when k=5\n",
    "from sklearn.metrics import silhouette_score"
   ]
  },
  {
   "cell_type": "code",
   "execution_count": 29,
   "id": "9892673c",
   "metadata": {},
   "outputs": [
    {
     "data": {
      "text/plain": [
       "0.5140993538670603"
      ]
     },
     "execution_count": 29,
     "metadata": {},
     "output_type": "execute_result"
    }
   ],
   "source": [
    "sc=silhouette_score(feature_set,y_km)\n",
    "sc"
   ]
  },
  {
   "cell_type": "code",
   "execution_count": 34,
   "id": "23810655",
   "metadata": {},
   "outputs": [
    {
     "data": {
      "text/plain": [
       "0.5138416314468206"
      ]
     },
     "execution_count": 34,
     "metadata": {},
     "output_type": "execute_result"
    }
   ],
   "source": [
    "#when k=3\n",
    "sc=silhouette_score(feature_set,y_km1)\n",
    "sc"
   ]
  },
  {
   "cell_type": "code",
   "execution_count": 35,
   "id": "6ba8c144",
   "metadata": {},
   "outputs": [],
   "source": [
    "#Plot different clusters"
   ]
  },
  {
   "cell_type": "code",
   "execution_count": 36,
   "id": "c5f25880",
   "metadata": {},
   "outputs": [
    {
     "data": {
      "image/png": "[encoded data removed]",
      "text/plain": [
       "<Figure size 1440x576 with 5 Axes>"
      ]
     },
     "metadata": {
      "needs_background": "light"
     },
     "output_type": "display_data"
    }
   ],
   "source": [
    "fig,axs=plt.subplots(nrows=1,ncols=5,figsize=(20,8))\n",
    "\n",
    "for i,ax in enumerate(fig.axes, start=3):\n",
    "    ax.scatter(data[\"Ash\"],data[\"Ash_Alcanity\"],c=data[f'km_{i}'])\n",
    "    ax.set_title(f'No Clusters: {i}')\n",
    "                            \n",
    "     "
   ]
  },
  {
   "cell_type": "markdown",
   "id": "e7260b21",
   "metadata": {},
   "source": [
    "# Hence its clear from the graph and silhouette score that best clustering is made when optimal value of k is taken as 5"
   ]
  },
  {
   "cell_type": "markdown",
   "id": "deb0b334",
   "metadata": {},
   "source": [
    "# KMEANS CLUSTERING WITH PCA"
   ]
  },
  {
   "cell_type": "code",
   "execution_count": 37,
   "id": "dd0aa88a",
   "metadata": {},
   "outputs": [],
   "source": [
    "#Pca is used for feature reduction"
   ]
  },
  {
   "cell_type": "code",
   "execution_count": 38,
   "id": "a600b690",
   "metadata": {},
   "outputs": [
    {
     "data": {
      "text/html": [
       "<div>\n",
       "<style scoped>\n",
       "    .dataframe tbody tr th:only-of-type {\n",
       "        vertical-align: middle;\n",
       "    }\n",
       "\n",
       "    .dataframe tbody tr th {\n",
       "        vertical-align: top;\n",
       "    }\n",
       "\n",
       "    .dataframe thead th {\n",
       "        text-align: right;\n",
       "    }\n",
       "</style>\n",
       "<table border=\"1\" class=\"dataframe\">\n",
       "  <thead>\n",
       "    <tr style=\"text-align: right;\">\n",
       "      <th></th>\n",
       "      <th>Alcohol</th>\n",
       "      <th>Malic_Acid</th>\n",
       "      <th>Ash</th>\n",
       "      <th>Ash_Alcanity</th>\n",
       "      <th>Magnesium</th>\n",
       "      <th>Total_Phenols</th>\n",
       "      <th>Flavanoids</th>\n",
       "      <th>Nonflavanoid_Phenols</th>\n",
       "      <th>Proanthocyanins</th>\n",
       "      <th>Color_Intensity</th>\n",
       "      <th>Hue</th>\n",
       "      <th>OD280</th>\n",
       "      <th>Proline</th>\n",
       "      <th>km_cluster</th>\n",
       "      <th>km_3</th>\n",
       "      <th>km_4</th>\n",
       "      <th>km_5</th>\n",
       "      <th>km_6</th>\n",
       "      <th>km_7</th>\n",
       "    </tr>\n",
       "  </thead>\n",
       "  <tbody>\n",
       "    <tr>\n",
       "      <th>0</th>\n",
       "      <td>14.23</td>\n",
       "      <td>1.71</td>\n",
       "      <td>2.43</td>\n",
       "      <td>15.6</td>\n",
       "      <td>127</td>\n",
       "      <td>2.80</td>\n",
       "      <td>3.06</td>\n",
       "      <td>0.28</td>\n",
       "      <td>2.29</td>\n",
       "      <td>5.64</td>\n",
       "      <td>1.04</td>\n",
       "      <td>3.92</td>\n",
       "      <td>1065</td>\n",
       "      <td>1</td>\n",
       "      <td>2</td>\n",
       "      <td>2</td>\n",
       "      <td>1</td>\n",
       "      <td>1</td>\n",
       "      <td>0</td>\n",
       "    </tr>\n",
       "    <tr>\n",
       "      <th>1</th>\n",
       "      <td>13.20</td>\n",
       "      <td>1.78</td>\n",
       "      <td>2.14</td>\n",
       "      <td>11.2</td>\n",
       "      <td>100</td>\n",
       "      <td>2.65</td>\n",
       "      <td>2.76</td>\n",
       "      <td>0.26</td>\n",
       "      <td>1.28</td>\n",
       "      <td>4.38</td>\n",
       "      <td>1.05</td>\n",
       "      <td>3.40</td>\n",
       "      <td>1050</td>\n",
       "      <td>3</td>\n",
       "      <td>2</td>\n",
       "      <td>2</td>\n",
       "      <td>3</td>\n",
       "      <td>5</td>\n",
       "      <td>3</td>\n",
       "    </tr>\n",
       "    <tr>\n",
       "      <th>2</th>\n",
       "      <td>13.16</td>\n",
       "      <td>2.36</td>\n",
       "      <td>2.67</td>\n",
       "      <td>18.6</td>\n",
       "      <td>101</td>\n",
       "      <td>2.80</td>\n",
       "      <td>3.24</td>\n",
       "      <td>0.30</td>\n",
       "      <td>2.81</td>\n",
       "      <td>5.68</td>\n",
       "      <td>1.03</td>\n",
       "      <td>3.17</td>\n",
       "      <td>1185</td>\n",
       "      <td>4</td>\n",
       "      <td>0</td>\n",
       "      <td>0</td>\n",
       "      <td>4</td>\n",
       "      <td>3</td>\n",
       "      <td>6</td>\n",
       "    </tr>\n",
       "    <tr>\n",
       "      <th>3</th>\n",
       "      <td>14.37</td>\n",
       "      <td>1.95</td>\n",
       "      <td>2.50</td>\n",
       "      <td>16.8</td>\n",
       "      <td>113</td>\n",
       "      <td>3.85</td>\n",
       "      <td>3.49</td>\n",
       "      <td>0.24</td>\n",
       "      <td>2.18</td>\n",
       "      <td>7.80</td>\n",
       "      <td>0.86</td>\n",
       "      <td>3.45</td>\n",
       "      <td>1480</td>\n",
       "      <td>1</td>\n",
       "      <td>2</td>\n",
       "      <td>2</td>\n",
       "      <td>1</td>\n",
       "      <td>1</td>\n",
       "      <td>0</td>\n",
       "    </tr>\n",
       "    <tr>\n",
       "      <th>4</th>\n",
       "      <td>13.24</td>\n",
       "      <td>2.59</td>\n",
       "      <td>2.87</td>\n",
       "      <td>21.0</td>\n",
       "      <td>118</td>\n",
       "      <td>2.80</td>\n",
       "      <td>2.69</td>\n",
       "      <td>0.39</td>\n",
       "      <td>1.82</td>\n",
       "      <td>4.32</td>\n",
       "      <td>1.04</td>\n",
       "      <td>2.93</td>\n",
       "      <td>735</td>\n",
       "      <td>2</td>\n",
       "      <td>0</td>\n",
       "      <td>3</td>\n",
       "      <td>2</td>\n",
       "      <td>0</td>\n",
       "      <td>2</td>\n",
       "    </tr>\n",
       "  </tbody>\n",
       "</table>\n",
       "</div>"
      ],
      "text/plain": [
       "   Alcohol  Malic_Acid   Ash  Ash_Alcanity  Magnesium  Total_Phenols  \\\n",
       "0    14.23        1.71  2.43          15.6        127           2.80   \n",
       "1    13.20        1.78  2.14          11.2        100           2.65   \n",
       "2    13.16        2.36  2.67          18.6        101           2.80   \n",
       "3    14.37        1.95  2.50          16.8        113           3.85   \n",
       "4    13.24        2.59  2.87          21.0        118           2.80   \n",
       "\n",
       "   Flavanoids  Nonflavanoid_Phenols  Proanthocyanins  Color_Intensity   Hue  \\\n",
       "0        3.06                  0.28             2.29             5.64  1.04   \n",
       "1        2.76                  0.26             1.28             4.38  1.05   \n",
       "2        3.24                  0.30             2.81             5.68  1.03   \n",
       "3        3.49                  0.24             2.18             7.80  0.86   \n",
       "4        2.69                  0.39             1.82             4.32  1.04   \n",
       "\n",
       "   OD280  Proline  km_cluster  km_3  km_4  km_5  km_6  km_7  \n",
       "0   3.92     1065           1     2     2     1     1     0  \n",
       "1   3.40     1050           3     2     2     3     5     3  \n",
       "2   3.17     1185           4     0     0     4     3     6  \n",
       "3   3.45     1480           1     2     2     1     1     0  \n",
       "4   2.93      735           2     0     3     2     0     2  "
      ]
     },
     "execution_count": 38,
     "metadata": {},
     "output_type": "execute_result"
    }
   ],
   "source": [
    "data.head()"
   ]
  },
  {
   "cell_type": "code",
   "execution_count": 39,
   "id": "ef831dd6",
   "metadata": {},
   "outputs": [
    {
     "data": {
      "text/plain": [
       "(178, 19)"
      ]
     },
     "execution_count": 39,
     "metadata": {},
     "output_type": "execute_result"
    }
   ],
   "source": [
    "data.shape"
   ]
  },
  {
   "cell_type": "code",
   "execution_count": 40,
   "id": "edca75c7",
   "metadata": {},
   "outputs": [],
   "source": [
    "#since there are 19 columns, its best to reduce the number of features to get optimal clusters"
   ]
  },
  {
   "cell_type": "code",
   "execution_count": null,
   "id": "c963e464",
   "metadata": {},
   "outputs": [],
   "source": [
    "#step 1 for PCA: standardisation"
   ]
  },
  {
   "cell_type": "code",
   "execution_count": 42,
   "id": "f9632285",
   "metadata": {},
   "outputs": [],
   "source": [
    "from sklearn.preprocessing import StandardScaler\n",
    "sc=StandardScaler()\n",
    "data.loc[:,:]=sc.fit_transform(data)"
   ]
  },
  {
   "cell_type": "code",
   "execution_count": 43,
   "id": "1f7aa37a",
   "metadata": {},
   "outputs": [
    {
     "data": {
      "text/html": [
       "<div>\n",
       "<style scoped>\n",
       "    .dataframe tbody tr th:only-of-type {\n",
       "        vertical-align: middle;\n",
       "    }\n",
       "\n",
       "    .dataframe tbody tr th {\n",
       "        vertical-align: top;\n",
       "    }\n",
       "\n",
       "    .dataframe thead th {\n",
       "        text-align: right;\n",
       "    }\n",
       "</style>\n",
       "<table border=\"1\" class=\"dataframe\">\n",
       "  <thead>\n",
       "    <tr style=\"text-align: right;\">\n",
       "      <th></th>\n",
       "      <th>Alcohol</th>\n",
       "      <th>Malic_Acid</th>\n",
       "      <th>Ash</th>\n",
       "      <th>Ash_Alcanity</th>\n",
       "      <th>Magnesium</th>\n",
       "      <th>Total_Phenols</th>\n",
       "      <th>Flavanoids</th>\n",
       "      <th>Nonflavanoid_Phenols</th>\n",
       "      <th>Proanthocyanins</th>\n",
       "      <th>Color_Intensity</th>\n",
       "      <th>Hue</th>\n",
       "      <th>OD280</th>\n",
       "      <th>Proline</th>\n",
       "      <th>km_cluster</th>\n",
       "      <th>km_3</th>\n",
       "      <th>km_4</th>\n",
       "      <th>km_5</th>\n",
       "      <th>km_6</th>\n",
       "      <th>km_7</th>\n",
       "    </tr>\n",
       "  </thead>\n",
       "  <tbody>\n",
       "    <tr>\n",
       "      <th>0</th>\n",
       "      <td>1.518613</td>\n",
       "      <td>-0.562250</td>\n",
       "      <td>0.232053</td>\n",
       "      <td>-1.169593</td>\n",
       "      <td>1.913905</td>\n",
       "      <td>0.808997</td>\n",
       "      <td>1.034819</td>\n",
       "      <td>-0.659563</td>\n",
       "      <td>1.224884</td>\n",
       "      <td>0.251717</td>\n",
       "      <td>0.362177</td>\n",
       "      <td>1.847920</td>\n",
       "      <td>1.013009</td>\n",
       "      <td>-0.844085</td>\n",
       "      <td>1.385651</td>\n",
       "      <td>0.487088</td>\n",
       "      <td>-0.844085</td>\n",
       "      <td>-0.630577</td>\n",
       "      <td>-1.201459</td>\n",
       "    </tr>\n",
       "    <tr>\n",
       "      <th>1</th>\n",
       "      <td>0.246290</td>\n",
       "      <td>-0.499413</td>\n",
       "      <td>-0.827996</td>\n",
       "      <td>-2.490847</td>\n",
       "      <td>0.018145</td>\n",
       "      <td>0.568648</td>\n",
       "      <td>0.733629</td>\n",
       "      <td>-0.820719</td>\n",
       "      <td>-0.544721</td>\n",
       "      <td>-0.293321</td>\n",
       "      <td>0.406051</td>\n",
       "      <td>1.113449</td>\n",
       "      <td>0.965242</td>\n",
       "      <td>0.547092</td>\n",
       "      <td>1.385651</td>\n",
       "      <td>0.487088</td>\n",
       "      <td>0.547092</td>\n",
       "      <td>1.964630</td>\n",
       "      <td>0.102564</td>\n",
       "    </tr>\n",
       "    <tr>\n",
       "      <th>2</th>\n",
       "      <td>0.196879</td>\n",
       "      <td>0.021231</td>\n",
       "      <td>1.109334</td>\n",
       "      <td>-0.268738</td>\n",
       "      <td>0.088358</td>\n",
       "      <td>0.808997</td>\n",
       "      <td>1.215533</td>\n",
       "      <td>-0.498407</td>\n",
       "      <td>2.135968</td>\n",
       "      <td>0.269020</td>\n",
       "      <td>0.318304</td>\n",
       "      <td>0.788587</td>\n",
       "      <td>1.395148</td>\n",
       "      <td>1.242681</td>\n",
       "      <td>-0.941197</td>\n",
       "      <td>-1.164373</td>\n",
       "      <td>1.242681</td>\n",
       "      <td>0.667026</td>\n",
       "      <td>1.406586</td>\n",
       "    </tr>\n",
       "    <tr>\n",
       "      <th>3</th>\n",
       "      <td>1.691550</td>\n",
       "      <td>-0.346811</td>\n",
       "      <td>0.487926</td>\n",
       "      <td>-0.809251</td>\n",
       "      <td>0.930918</td>\n",
       "      <td>2.491446</td>\n",
       "      <td>1.466525</td>\n",
       "      <td>-0.981875</td>\n",
       "      <td>1.032155</td>\n",
       "      <td>1.186068</td>\n",
       "      <td>-0.427544</td>\n",
       "      <td>1.184071</td>\n",
       "      <td>2.334574</td>\n",
       "      <td>-0.844085</td>\n",
       "      <td>1.385651</td>\n",
       "      <td>0.487088</td>\n",
       "      <td>-0.844085</td>\n",
       "      <td>-0.630577</td>\n",
       "      <td>-1.201459</td>\n",
       "    </tr>\n",
       "    <tr>\n",
       "      <th>4</th>\n",
       "      <td>0.295700</td>\n",
       "      <td>0.227694</td>\n",
       "      <td>1.840403</td>\n",
       "      <td>0.451946</td>\n",
       "      <td>1.281985</td>\n",
       "      <td>0.808997</td>\n",
       "      <td>0.663351</td>\n",
       "      <td>0.226796</td>\n",
       "      <td>0.401404</td>\n",
       "      <td>-0.319276</td>\n",
       "      <td>0.362177</td>\n",
       "      <td>0.449601</td>\n",
       "      <td>-0.037874</td>\n",
       "      <td>-0.148496</td>\n",
       "      <td>-0.941197</td>\n",
       "      <td>1.312819</td>\n",
       "      <td>-0.148496</td>\n",
       "      <td>-1.279378</td>\n",
       "      <td>-0.332111</td>\n",
       "    </tr>\n",
       "    <tr>\n",
       "      <th>...</th>\n",
       "      <td>...</td>\n",
       "      <td>...</td>\n",
       "      <td>...</td>\n",
       "      <td>...</td>\n",
       "      <td>...</td>\n",
       "      <td>...</td>\n",
       "      <td>...</td>\n",
       "      <td>...</td>\n",
       "      <td>...</td>\n",
       "      <td>...</td>\n",
       "      <td>...</td>\n",
       "      <td>...</td>\n",
       "      <td>...</td>\n",
       "      <td>...</td>\n",
       "      <td>...</td>\n",
       "      <td>...</td>\n",
       "      <td>...</td>\n",
       "      <td>...</td>\n",
       "      <td>...</td>\n",
       "    </tr>\n",
       "    <tr>\n",
       "      <th>173</th>\n",
       "      <td>0.876275</td>\n",
       "      <td>2.974543</td>\n",
       "      <td>0.305159</td>\n",
       "      <td>0.301803</td>\n",
       "      <td>-0.332922</td>\n",
       "      <td>-0.985614</td>\n",
       "      <td>-1.424900</td>\n",
       "      <td>1.274310</td>\n",
       "      <td>-0.930179</td>\n",
       "      <td>1.142811</td>\n",
       "      <td>-1.392758</td>\n",
       "      <td>-1.231206</td>\n",
       "      <td>-0.021952</td>\n",
       "      <td>-0.148496</td>\n",
       "      <td>-0.941197</td>\n",
       "      <td>1.312819</td>\n",
       "      <td>-0.148496</td>\n",
       "      <td>-1.279378</td>\n",
       "      <td>-0.332111</td>\n",
       "    </tr>\n",
       "    <tr>\n",
       "      <th>174</th>\n",
       "      <td>0.493343</td>\n",
       "      <td>1.412609</td>\n",
       "      <td>0.414820</td>\n",
       "      <td>1.052516</td>\n",
       "      <td>0.158572</td>\n",
       "      <td>-0.793334</td>\n",
       "      <td>-1.284344</td>\n",
       "      <td>0.549108</td>\n",
       "      <td>-0.316950</td>\n",
       "      <td>0.969783</td>\n",
       "      <td>-1.129518</td>\n",
       "      <td>-1.485445</td>\n",
       "      <td>0.009893</td>\n",
       "      <td>-0.148496</td>\n",
       "      <td>0.222227</td>\n",
       "      <td>1.312819</td>\n",
       "      <td>-0.148496</td>\n",
       "      <td>1.315828</td>\n",
       "      <td>-0.766785</td>\n",
       "    </tr>\n",
       "    <tr>\n",
       "      <th>175</th>\n",
       "      <td>0.332758</td>\n",
       "      <td>1.744744</td>\n",
       "      <td>-0.389355</td>\n",
       "      <td>0.151661</td>\n",
       "      <td>1.422412</td>\n",
       "      <td>-1.129824</td>\n",
       "      <td>-1.344582</td>\n",
       "      <td>0.549108</td>\n",
       "      <td>-0.422075</td>\n",
       "      <td>2.224236</td>\n",
       "      <td>-1.612125</td>\n",
       "      <td>-1.485445</td>\n",
       "      <td>0.280575</td>\n",
       "      <td>1.242681</td>\n",
       "      <td>-0.941197</td>\n",
       "      <td>-1.164373</td>\n",
       "      <td>1.242681</td>\n",
       "      <td>0.667026</td>\n",
       "      <td>-0.332111</td>\n",
       "    </tr>\n",
       "    <tr>\n",
       "      <th>176</th>\n",
       "      <td>0.209232</td>\n",
       "      <td>0.227694</td>\n",
       "      <td>0.012732</td>\n",
       "      <td>0.151661</td>\n",
       "      <td>1.422412</td>\n",
       "      <td>-1.033684</td>\n",
       "      <td>-1.354622</td>\n",
       "      <td>1.354888</td>\n",
       "      <td>-0.229346</td>\n",
       "      <td>1.834923</td>\n",
       "      <td>-1.568252</td>\n",
       "      <td>-1.400699</td>\n",
       "      <td>0.296498</td>\n",
       "      <td>1.242681</td>\n",
       "      <td>-0.941197</td>\n",
       "      <td>-1.164373</td>\n",
       "      <td>1.242681</td>\n",
       "      <td>0.667026</td>\n",
       "      <td>-0.332111</td>\n",
       "    </tr>\n",
       "    <tr>\n",
       "      <th>177</th>\n",
       "      <td>1.395086</td>\n",
       "      <td>1.583165</td>\n",
       "      <td>1.365208</td>\n",
       "      <td>1.502943</td>\n",
       "      <td>-0.262708</td>\n",
       "      <td>-0.392751</td>\n",
       "      <td>-1.274305</td>\n",
       "      <td>1.596623</td>\n",
       "      <td>-0.422075</td>\n",
       "      <td>1.791666</td>\n",
       "      <td>-1.524378</td>\n",
       "      <td>-1.428948</td>\n",
       "      <td>-0.595160</td>\n",
       "      <td>-1.539673</td>\n",
       "      <td>0.222227</td>\n",
       "      <td>-0.338642</td>\n",
       "      <td>-1.539673</td>\n",
       "      <td>1.315828</td>\n",
       "      <td>0.971912</td>\n",
       "    </tr>\n",
       "  </tbody>\n",
       "</table>\n",
       "<p>178 rows × 19 columns</p>\n",
       "</div>"
      ],
      "text/plain": [
       "      Alcohol  Malic_Acid       Ash  Ash_Alcanity  Magnesium  Total_Phenols  \\\n",
       "0    1.518613   -0.562250  0.232053     -1.169593   1.913905       0.808997   \n",
       "1    0.246290   -0.499413 -0.827996     -2.490847   0.018145       0.568648   \n",
       "2    0.196879    0.021231  1.109334     -0.268738   0.088358       0.808997   \n",
       "3    1.691550   -0.346811  0.487926     -0.809251   0.930918       2.491446   \n",
       "4    0.295700    0.227694  1.840403      0.451946   1.281985       0.808997   \n",
       "..        ...         ...       ...           ...        ...            ...   \n",
       "173  0.876275    2.974543  0.305159      0.301803  -0.332922      -0.985614   \n",
       "174  0.493343    1.412609  0.414820      1.052516   0.158572      -0.793334   \n",
       "175  0.332758    1.744744 -0.389355      0.151661   1.422412      -1.129824   \n",
       "176  0.209232    0.227694  0.012732      0.151661   1.422412      -1.033684   \n",
       "177  1.395086    1.583165  1.365208      1.502943  -0.262708      -0.392751   \n",
       "\n",
       "     Flavanoids  Nonflavanoid_Phenols  Proanthocyanins  Color_Intensity  \\\n",
       "0      1.034819             -0.659563         1.224884         0.251717   \n",
       "1      0.733629             -0.820719        -0.544721        -0.293321   \n",
       "2      1.215533             -0.498407         2.135968         0.269020   \n",
       "3      1.466525             -0.981875         1.032155         1.186068   \n",
       "4      0.663351              0.226796         0.401404        -0.319276   \n",
       "..          ...                   ...              ...              ...   \n",
       "173   -1.424900              1.274310        -0.930179         1.142811   \n",
       "174   -1.284344              0.549108        -0.316950         0.969783   \n",
       "175   -1.344582              0.549108        -0.422075         2.224236   \n",
       "176   -1.354622              1.354888        -0.229346         1.834923   \n",
       "177   -1.274305              1.596623        -0.422075         1.791666   \n",
       "\n",
       "          Hue     OD280   Proline  km_cluster      km_3      km_4      km_5  \\\n",
       "0    0.362177  1.847920  1.013009   -0.844085  1.385651  0.487088 -0.844085   \n",
       "1    0.406051  1.113449  0.965242    0.547092  1.385651  0.487088  0.547092   \n",
       "2    0.318304  0.788587  1.395148    1.242681 -0.941197 -1.164373  1.242681   \n",
       "3   -0.427544  1.184071  2.334574   -0.844085  1.385651  0.487088 -0.844085   \n",
       "4    0.362177  0.449601 -0.037874   -0.148496 -0.941197  1.312819 -0.148496   \n",
       "..        ...       ...       ...         ...       ...       ...       ...   \n",
       "173 -1.392758 -1.231206 -0.021952   -0.148496 -0.941197  1.312819 -0.148496   \n",
       "174 -1.129518 -1.485445  0.009893   -0.148496  0.222227  1.312819 -0.148496   \n",
       "175 -1.612125 -1.485445  0.280575    1.242681 -0.941197 -1.164373  1.242681   \n",
       "176 -1.568252 -1.400699  0.296498    1.242681 -0.941197 -1.164373  1.242681   \n",
       "177 -1.524378 -1.428948 -0.595160   -1.539673  0.222227 -0.338642 -1.539673   \n",
       "\n",
       "         km_6      km_7  \n",
       "0   -0.630577 -1.201459  \n",
       "1    1.964630  0.102564  \n",
       "2    0.667026  1.406586  \n",
       "3   -0.630577 -1.201459  \n",
       "4   -1.279378 -0.332111  \n",
       "..        ...       ...  \n",
       "173 -1.279378 -0.332111  \n",
       "174  1.315828 -0.766785  \n",
       "175  0.667026 -0.332111  \n",
       "176  0.667026 -0.332111  \n",
       "177  1.315828  0.971912  \n",
       "\n",
       "[178 rows x 19 columns]"
      ]
     },
     "execution_count": 43,
     "metadata": {},
     "output_type": "execute_result"
    }
   ],
   "source": [
    "data"
   ]
  },
  {
   "cell_type": "code",
   "execution_count": 46,
   "id": "e35c17ac",
   "metadata": {},
   "outputs": [
    {
     "data": {
      "text/plain": [
       "(178, 2)"
      ]
     },
     "execution_count": 46,
     "metadata": {},
     "output_type": "execute_result"
    }
   ],
   "source": [
    "#PCA import\n",
    "from sklearn.decomposition import PCA\n",
    "pca1=PCA(n_components=2)\n",
    "y_pca1=pca1.fit_transform(data)\n",
    "y_pca1.shape"
   ]
  },
  {
   "cell_type": "code",
   "execution_count": 47,
   "id": "c4733746",
   "metadata": {},
   "outputs": [
    {
     "data": {
      "text/plain": [
       "array([[-0.17228561,  0.22775138, -0.01068083,  0.226896  , -0.14629935,\n",
       "        -0.37659671, -0.39822462,  0.26981495, -0.28562427,  0.0548743 ,\n",
       "        -0.26556287, -0.34578359, -0.29071207,  0.11564072, -0.26503316,\n",
       "        -0.06415603,  0.11564072,  0.03343135,  0.10402859],\n",
       "       [-0.11769742, -0.10943106, -0.12283101, -0.13281991, -0.03371596,\n",
       "         0.06552404,  0.09858802, -0.13058289,  0.10266283, -0.16093101,\n",
       "         0.16912277,  0.12621687, -0.02032124,  0.44215231, -0.29048553,\n",
       "        -0.4016615 ,  0.44215231,  0.29401203,  0.32357858]])"
      ]
     },
     "execution_count": 47,
     "metadata": {},
     "output_type": "execute_result"
    }
   ],
   "source": [
    "pca1.components_"
   ]
  },
  {
   "cell_type": "code",
   "execution_count": 48,
   "id": "b8a3da38",
   "metadata": {},
   "outputs": [],
   "source": [
    "#Build Kmeans model with new feature set as y_pca1"
   ]
  },
  {
   "cell_type": "code",
   "execution_count": 53,
   "id": "3036c487",
   "metadata": {},
   "outputs": [],
   "source": [
    "feature_set1=pd.DataFrame(y_pca1,columns=[\"PCA1\",\"PCA2\"])"
   ]
  },
  {
   "cell_type": "code",
   "execution_count": 54,
   "id": "9d4240d0",
   "metadata": {},
   "outputs": [
    {
     "data": {
      "text/plain": [
       "pandas.core.frame.DataFrame"
      ]
     },
     "execution_count": 54,
     "metadata": {},
     "output_type": "execute_result"
    }
   ],
   "source": [
    "type(feature_set1)"
   ]
  },
  {
   "cell_type": "code",
   "execution_count": 55,
   "id": "317dfd2e",
   "metadata": {},
   "outputs": [
    {
     "name": "stdout",
     "output_type": "stream",
     "text": [
      "[3 3 0 3 1 3 3 3 3 3 0 3 3 3 3 3 0 0 3 3 3 0 3 0 0 1 3 3 0 3 3 0 3 0 0 3 3\n",
      " 0 3 3 3 0 3 1 3 0 3 3 0 3 3 3 3 3 3 3 3 3 3 0 2 2 0 0 0 0 3 0 1 3 2 3 1 3\n",
      " 3 1 1 4 3 1 0 0 1 2 0 0 1 1 1 1 4 2 2 0 0 0 1 3 0 0 1 0 1 0 1 2 0 2 0 0 0\n",
      " 1 4 1 1 1 1 1 2 0 0 3 1 1 1 1 1 2 1 2 4 4 2 2 2 4 2 2 4 2 2 4 2 4 4 2 4 2\n",
      " 2 2 2 2 2 4 4 2 4 2 1 2 2 4 2 4 2 2 2 4 2 2 4 4 4 2 2 4 4 2]\n"
     ]
    }
   ],
   "source": [
    "km2=KMeans(n_clusters=5,init='k-means++',n_init=10,random_state=101)\n",
    "y_km2=km2.fit_predict(feature_set1)\n",
    "print(y_km2)"
   ]
  },
  {
   "cell_type": "code",
   "execution_count": 57,
   "id": "0be93288",
   "metadata": {},
   "outputs": [
    {
     "data": {
      "text/plain": [
       "0.5360500307117543"
      ]
     },
     "execution_count": 57,
     "metadata": {},
     "output_type": "execute_result"
    }
   ],
   "source": [
    "sc2=silhouette_score(feature_set1,y_km2)\n",
    "sc2"
   ]
  },
  {
   "cell_type": "markdown",
   "id": "3c540a8d",
   "metadata": {},
   "source": [
    "# We got highest silhouette score after doing Principle Component Analysis with k=5"
   ]
  },
  {
   "cell_type": "markdown",
   "id": "f3881420",
   "metadata": {},
   "source": [
    "# AGGLOMERATIVE CLUSTERING"
   ]
  },
  {
   "cell_type": "code",
   "execution_count": 59,
   "id": "a1a6919e",
   "metadata": {},
   "outputs": [],
   "source": [
    "import scipy.cluster.hierarchy as sc"
   ]
  },
  {
   "cell_type": "code",
   "execution_count": 66,
   "id": "79342e92",
   "metadata": {},
   "outputs": [
    {
     "data": {
      "image/png": "[encoded data removed]",
      "text/plain": [
       "<Figure size 1440x576 with 1 Axes>"
      ]
     },
     "metadata": {
      "needs_background": "light"
     },
     "output_type": "display_data"
    }
   ],
   "source": [
    "plt.figure(figsize=(20,8))\n",
    "dendrogram=sc.dendrogram(sc.linkage(data, method='ward'),labels = data.index,leaf_rotation=90)\n",
    "plt.title(\"Dendrogram for agglomerative clustering\")\n",
    "plt.xlabel(\"Data points\")\n",
    "plt.ylabel(\"Euclidean distance\")\n",
    "plt.show()"
   ]
  },
  {
   "cell_type": "code",
   "execution_count": 68,
   "id": "949a1f19",
   "metadata": {},
   "outputs": [],
   "source": [
    "#From dendrogram its clearly visible that the largest vertical line that is not being cut by any horzintal line intersects at 3 points. \n",
    "#Hence the optimal number of clusters is 3"
   ]
  },
  {
   "cell_type": "code",
   "execution_count": 70,
   "id": "7ac94cb0",
   "metadata": {},
   "outputs": [
    {
     "name": "stdout",
     "output_type": "stream",
     "text": [
      "[1 1 2 1 1 1 1 1 1 1 2 1 1 1 1 1 2 2 1 1 1 2 1 2 2 0 1 1 2 1 1 2 1 2 2 1 1\n",
      " 2 1 1 1 2 1 1 1 2 1 1 2 1 1 1 1 1 1 1 1 1 1 0 0 0 2 2 2 2 0 2 0 1 0 0 0 0\n",
      " 0 0 0 2 1 0 2 2 0 0 2 2 0 0 0 0 2 0 0 2 2 1 0 0 2 2 1 2 0 2 0 0 2 0 2 2 1\n",
      " 0 2 0 0 0 0 0 0 2 2 0 0 0 0 0 0 0 0 0 0 0 0 0 0 0 0 0 0 0 0 0 0 0 0 0 0 0\n",
      " 0 0 0 0 0 0 0 0 0 0 0 0 0 0 0 0 0 0 0 0 0 0 0 0 0 0 0 0 0 0]\n"
     ]
    }
   ],
   "source": [
    "from sklearn.cluster import AgglomerativeClustering\n",
    "ac=AgglomerativeClustering(n_clusters=3,affinity='euclidean',linkage='ward')\n",
    "y_ac=ac.fit_predict(data)\n",
    "print(y_ac)"
   ]
  },
  {
   "cell_type": "code",
   "execution_count": 72,
   "id": "c7f23e58",
   "metadata": {},
   "outputs": [
    {
     "name": "stdout",
     "output_type": "stream",
     "text": [
      "0.19121005820472256\n"
     ]
    }
   ],
   "source": [
    "sc3=silhouette_score(data,y_ac)\n",
    "print(sc3)"
   ]
  },
  {
   "cell_type": "markdown",
   "id": "6192a5e6",
   "metadata": {},
   "source": [
    "# Agglomerative clustering with PCA"
   ]
  },
  {
   "cell_type": "code",
   "execution_count": 73,
   "id": "5e92877f",
   "metadata": {},
   "outputs": [
    {
     "name": "stdout",
     "output_type": "stream",
     "text": [
      "[[-3.93774209 -1.37334047]\n",
      " [-2.27246374  1.35167631]\n",
      " [-1.61596864  2.90114376]\n",
      " [-4.42672398 -1.68288436]\n",
      " [-0.9306367  -0.95771496]\n",
      " [-3.73918614 -1.65560965]\n",
      " [-3.12221469 -1.53264434]\n",
      " [-2.4013937  -0.34464975]\n",
      " [-2.76901183  0.58776981]\n",
      " [-3.38437979 -1.34476917]\n",
      " [-2.5612093   3.13254629]\n",
      " [-2.44427863 -1.56029086]\n",
      " [-2.77756079 -1.48402558]\n",
      " [-3.52983192  1.21942537]\n",
      " [-4.36562412  1.24347925]\n",
      " [-2.73619844 -0.92023125]\n",
      " [-1.5738177   1.79482559]\n",
      " [-1.28972435  1.88925379]\n",
      " [-4.22746276 -1.65786869]\n",
      " [-2.74131223 -1.55889015]\n",
      " [-3.72269291 -1.22979608]\n",
      " [-0.22303313  2.75135316]\n",
      " [-3.1298616  -1.19831227]\n",
      " [-0.7415647   3.07323094]\n",
      " [-1.04456024  2.40458457]\n",
      " [-1.21687061 -0.85255664]\n",
      " [-2.46078192 -1.66649366]\n",
      " [-1.91303619 -1.48973383]\n",
      " [-1.50581832  2.20638255]\n",
      " [-2.88424615 -1.2978235 ]\n",
      " [-2.71383176 -1.12094662]\n",
      " [-1.81823909  2.83362386]\n",
      " [-2.01693865 -0.63663217]\n",
      " [-1.30389312  1.85247759]\n",
      " [-0.58698793  2.64886014]\n",
      " [-1.74712898 -0.45471372]\n",
      " [-2.0845023  -1.73898694]\n",
      " [-0.28658973  2.77281099]\n",
      " [-2.12692364 -1.18974131]\n",
      " [-2.64896985  0.8187029 ]\n",
      " [-3.21441308 -1.39662248]\n",
      " [ 0.14542361  2.67239969]\n",
      " [-3.69236344 -1.39036226]\n",
      " [-0.80185344 -0.32926382]\n",
      " [-2.71001763 -1.26662897]\n",
      " [-0.38783216  2.26456361]\n",
      " [-3.36575043 -1.45263637]\n",
      " [-3.43269909 -1.2552852 ]\n",
      " [-1.17853779  2.69777599]\n",
      " [-3.0146037  -0.13121863]\n",
      " [-3.20832701  1.60189817]\n",
      " [-3.19397823 -0.46775686]\n",
      " [-3.72944344  0.59866149]\n",
      " [-2.94628242 -1.87570179]\n",
      " [-2.81881964 -1.54334271]\n",
      " [-2.32250764 -0.55801148]\n",
      " [-3.4032446  -1.53712748]\n",
      " [-2.8526072  -1.67880719]\n",
      " [-3.78411337 -1.52238446]\n",
      " [ 0.80366028  1.41635505]\n",
      " [ 0.73843083 -1.95980443]\n",
      " [ 0.99365227 -2.14405943]\n",
      " [ 0.77829781  2.88969675]\n",
      " [-1.0393385   3.61192546]\n",
      " [ 1.44564451  2.84106313]\n",
      " [-0.0169925   2.97375632]\n",
      " [-2.76526704 -0.63649273]\n",
      " [ 0.53924152  2.67494894]\n",
      " [-0.01539176 -2.15275732]\n",
      " [-2.4864101  -0.67555666]\n",
      " [ 1.58346368 -0.97268562]\n",
      " [-1.75751348 -0.05974753]\n",
      " [ 0.47404927 -0.59641013]\n",
      " [-2.73833958 -0.72030038]\n",
      " [-1.58387261 -0.01259492]\n",
      " [ 0.20804525 -1.27998757]\n",
      " [-0.99143682 -1.04279147]\n",
      " [ 2.23064014  2.54909436]\n",
      " [-1.8634999  -1.09949338]\n",
      " [-0.49398574 -0.29205969]\n",
      " [ 0.23653255  3.67735715]\n",
      " [-0.11232918  3.22495369]\n",
      " [ 0.3386759  -0.19149775]\n",
      " [ 2.08807247 -2.09688372]\n",
      " [ 0.10588056  3.18685314]\n",
      " [ 0.13969563  3.30237665]\n",
      " [ 0.57693766 -0.99059074]\n",
      " [ 0.41102068 -0.2500693 ]\n",
      " [ 1.15539183 -0.89289764]\n",
      " [ 0.40551545 -0.14299758]\n",
      " [ 2.15752612  2.72916351]\n",
      " [ 1.26974904 -1.3201563 ]\n",
      " [ 1.93537992 -1.01506374]\n",
      " [ 0.22562752  3.42446062]\n",
      " [ 0.01941275  3.45033755]\n",
      " [-1.57598717  3.30128264]\n",
      " [ 0.58826661 -0.97411924]\n",
      " [-1.57362056 -0.79945247]\n",
      " [-1.25930974  3.52014992]\n",
      " [-0.40609691  3.54644895]\n",
      " [-0.98547548  0.63154102]\n",
      " [ 1.41042159  3.08460954]\n",
      " [ 0.27567733 -0.67623629]\n",
      " [ 1.36055635  2.54191018]\n",
      " [-0.21057853 -0.18191021]\n",
      " [ 1.44355906 -1.50279601]\n",
      " [ 1.23948229  3.02976706]\n",
      " [ 1.28862206 -1.48530342]\n",
      " [ 0.82858574  3.19611574]\n",
      " [-0.77160655  2.73307269]\n",
      " [-0.58844142  2.91978912]\n",
      " [ 0.42265154 -0.43354728]\n",
      " [ 1.86665483  1.67281493]\n",
      " [ 0.60568927 -0.43381247]\n",
      " [ 0.25677845 -1.12395391]\n",
      " [-0.23161568  0.17438979]\n",
      " [ 0.44751451 -0.12880197]\n",
      " [-0.09010903 -0.87746824]\n",
      " [ 1.60229558 -2.12751032]\n",
      " [ 1.43749068  3.04849572]\n",
      " [ 0.00652169  2.49406806]\n",
      " [-1.57627237 -1.20992789]\n",
      " [ 0.83862063 -1.43549676]\n",
      " [ 0.51234765 -0.94899053]\n",
      " [-0.72416332 -0.16116132]\n",
      " [ 0.25741412 -0.3808756 ]\n",
      " [ 0.0398514  -0.75451916]\n",
      " [ 1.24106001 -1.49651951]\n",
      " [ 0.31268773 -0.30969335]\n",
      " [ 1.4668041  -1.5623106 ]\n",
      " [ 2.02171478  2.21167594]\n",
      " [ 2.83214714  1.25992596]\n",
      " [ 2.50428106 -1.47885586]\n",
      " [ 2.02921002 -1.60835914]\n",
      " [ 1.8624356  -0.9233787 ]\n",
      " [ 3.6173421   1.5682743 ]\n",
      " [ 3.73691534 -1.98322515]\n",
      " [ 3.43212333 -1.97774061]\n",
      " [ 3.46433025  0.97513101]\n",
      " [ 1.95683671 -1.48743686]\n",
      " [ 2.63769479 -1.81630012]\n",
      " [ 2.71044185  1.1860164 ]\n",
      " [ 2.5145285  -1.70270407]\n",
      " [ 2.80305488  1.1415234 ]\n",
      " [ 2.82110627  1.74535461]\n",
      " [ 2.49405052 -1.6983225 ]\n",
      " [ 4.58442809  0.6377567 ]\n",
      " [ 3.31361678 -2.3727964 ]\n",
      " [ 2.5593083  -2.23730316]\n",
      " [ 2.64235971 -2.30286849]\n",
      " [ 1.83123416 -1.87542031]\n",
      " [ 2.01072863 -2.55285657]\n",
      " [ 1.39474055 -1.60207498]\n",
      " [ 3.25726667  1.1974242 ]\n",
      " [ 3.13623662  1.1047264 ]\n",
      " [ 3.00038648 -2.84409541]\n",
      " [ 3.21293608  0.63146369]\n",
      " [ 2.77779145 -2.61185033]\n",
      " [ 0.54464414 -2.03066127]\n",
      " [ 1.08160398 -2.56291544]\n",
      " [ 2.9729929  -1.95902205]\n",
      " [ 2.62385982  0.94845465]\n",
      " [ 2.33823905 -2.38031266]\n",
      " [ 3.18729723  1.66594689]\n",
      " [ 2.37364008 -2.59706376]\n",
      " [ 2.96315334 -2.58246305]\n",
      " [ 1.92054358 -1.97773829]\n",
      " [ 3.28386461  0.84997369]\n",
      " [ 1.69687137 -1.84590224]\n",
      " [ 1.88076628 -2.03670277]\n",
      " [ 3.8168684   1.7564264 ]\n",
      " [ 3.9926994   0.70567528]\n",
      " [ 2.78015551  0.62247792]\n",
      " [ 3.10677682 -2.40519493]\n",
      " [ 2.14751639 -1.81079818]\n",
      " [ 2.98171587  0.53286384]\n",
      " [ 2.71640102  0.66434629]\n",
      " [ 2.61388368 -2.40220751]]\n"
     ]
    }
   ],
   "source": [
    "pca2=PCA(n_components=2)\n",
    "y_ac1=pca2.fit_transform(data)\n",
    "print(y_ac1)\n"
   ]
  },
  {
   "cell_type": "code",
   "execution_count": 74,
   "id": "32e68c9c",
   "metadata": {},
   "outputs": [
    {
     "data": {
      "text/plain": [
       "array([[-0.17228561,  0.22775138, -0.01068083,  0.226896  , -0.14629935,\n",
       "        -0.37659671, -0.39822462,  0.26981495, -0.28562427,  0.0548743 ,\n",
       "        -0.26556287, -0.34578359, -0.29071207,  0.11564072, -0.26503316,\n",
       "        -0.06415603,  0.11564072,  0.03343135,  0.10402859],\n",
       "       [-0.11769742, -0.10943106, -0.12283101, -0.13281991, -0.03371596,\n",
       "         0.06552404,  0.09858802, -0.13058289,  0.10266283, -0.16093101,\n",
       "         0.16912277,  0.12621687, -0.02032124,  0.44215231, -0.29048553,\n",
       "        -0.4016615 ,  0.44215231,  0.29401203,  0.32357858]])"
      ]
     },
     "execution_count": 74,
     "metadata": {},
     "output_type": "execute_result"
    }
   ],
   "source": [
    "pca2.components_"
   ]
  },
  {
   "cell_type": "code",
   "execution_count": 84,
   "id": "5fbd3b67",
   "metadata": {},
   "outputs": [],
   "source": [
    "#convert to dataframe\n",
    "ac_data=pd.DataFrame(y_ac1,columns=[\"PC1\",\"PC2\"])"
   ]
  },
  {
   "cell_type": "code",
   "execution_count": 85,
   "id": "12b1ec57",
   "metadata": {},
   "outputs": [],
   "source": [
    "#Build model with pca2"
   ]
  },
  {
   "cell_type": "code",
   "execution_count": 86,
   "id": "e00472dd",
   "metadata": {},
   "outputs": [
    {
     "name": "stdout",
     "output_type": "stream",
     "text": [
      "[1 1 2 1 1 1 1 1 1 1 2 1 1 1 1 1 2 2 1 1 1 2 1 2 2 1 1 1 2 1 1 2 1 2 2 1 1\n",
      " 2 1 1 1 2 1 0 1 2 1 1 2 1 1 1 1 1 1 1 1 1 1 2 0 0 2 2 2 2 1 2 0 1 0 1 0 1\n",
      " 1 0 1 2 1 0 2 2 0 0 2 2 0 0 0 0 2 0 0 2 2 2 0 1 2 2 0 2 0 2 0 0 2 0 2 2 2\n",
      " 0 2 0 0 0 0 0 0 2 2 1 0 0 0 0 0 0 0 0 2 0 0 0 0 0 0 0 0 0 0 0 0 0 0 0 0 0\n",
      " 0 0 0 0 0 0 0 0 0 0 0 0 0 0 0 0 0 0 0 0 0 0 0 0 0 0 0 0 0 0]\n"
     ]
    }
   ],
   "source": [
    "ac2=AgglomerativeClustering(n_clusters=3,affinity='euclidean',linkage='ward')\n",
    "y_ac2=ac2.fit_predict(ac_data)\n",
    "print(y_ac2)"
   ]
  },
  {
   "cell_type": "code",
   "execution_count": 87,
   "id": "50c7b899",
   "metadata": {},
   "outputs": [
    {
     "name": "stdout",
     "output_type": "stream",
     "text": [
      "0.522070789966315\n"
     ]
    }
   ],
   "source": [
    "#calculate silhouette score\n",
    "sc4=silhouette_score(ac_data,y_ac2)\n",
    "print(sc4)"
   ]
  },
  {
   "cell_type": "markdown",
   "id": "58eee536",
   "metadata": {},
   "source": [
    "# For agglomerative clustering ,optimal value of cluster is 3 and highest silhouette score is obtained with principle component analysis"
   ]
  },
  {
   "cell_type": "code",
   "execution_count": 88,
   "id": "8cf552a1",
   "metadata": {},
   "outputs": [],
   "source": [
    "from sklearn.cluster import DBSCAN"
   ]
  },
  {
   "cell_type": "code",
   "execution_count": 111,
   "id": "3cc9ef4a",
   "metadata": {},
   "outputs": [],
   "source": [
    "db=DBSCAN(eps=5,min_samples=4)"
   ]
  },
  {
   "cell_type": "code",
   "execution_count": 112,
   "id": "6ce1baf5",
   "metadata": {},
   "outputs": [],
   "source": [
    "model=db.fit(data)"
   ]
  },
  {
   "cell_type": "code",
   "execution_count": 113,
   "id": "9c391f0b",
   "metadata": {},
   "outputs": [],
   "source": [
    "label=model.labels_"
   ]
  },
  {
   "cell_type": "code",
   "execution_count": 114,
   "id": "e6ed283a",
   "metadata": {},
   "outputs": [
    {
     "data": {
      "text/plain": [
       "array([ 0,  0,  0,  0,  0,  0,  0,  0,  0,  0,  0,  0,  0,  0,  0,  0,  0,\n",
       "        0,  0,  0,  0,  0,  0,  0,  0,  0,  0,  0,  0,  0,  0,  0,  0,  0,\n",
       "        0,  0,  0,  0,  0,  0,  0,  0,  0,  0,  0,  0,  0,  0,  0,  0,  0,\n",
       "        0,  0,  0,  0,  0,  0,  0,  0, -1,  0,  0,  0,  0,  0,  0,  0,  0,\n",
       "        0,  0,  0,  0,  0,  0,  0,  0,  0,  0,  0,  0,  0,  0,  0,  0,  0,\n",
       "        0,  0,  0,  0,  0,  0,  0,  0,  0,  0, -1,  0,  0,  0,  0,  0,  0,\n",
       "        0,  0,  0,  0,  0,  0,  0,  0,  0,  0,  0,  0,  0,  0,  0,  0,  0,\n",
       "        0,  0,  0,  0,  0,  0,  0,  0,  0,  0,  0,  0,  0,  0,  0,  0,  0,\n",
       "        0,  0,  0,  0,  0,  0,  0,  0,  0,  0,  0,  0,  0,  0,  0,  0,  0,\n",
       "        0,  0,  0,  0,  0,  0,  0,  0,  0,  0,  0,  0,  0,  0,  0,  0,  0,\n",
       "        0,  0,  0,  0,  0,  0,  0,  0], dtype=int64)"
      ]
     },
     "execution_count": 114,
     "metadata": {},
     "output_type": "execute_result"
    }
   ],
   "source": [
    "label"
   ]
  },
  {
   "cell_type": "code",
   "execution_count": 115,
   "id": "46e23496",
   "metadata": {},
   "outputs": [],
   "source": [
    "y=db.fit_predict(data)"
   ]
  },
  {
   "cell_type": "code",
   "execution_count": 118,
   "id": "65f5cf1b",
   "metadata": {},
   "outputs": [
    {
     "data": {
      "text/plain": [
       "0.2060169739827462"
      ]
     },
     "execution_count": 118,
     "metadata": {},
     "output_type": "execute_result"
    }
   ],
   "source": [
    "sc5=silhouette_score(data,y)\n",
    "sc5"
   ]
  },
  {
   "cell_type": "code",
   "execution_count": 119,
   "id": "698cfc53",
   "metadata": {},
   "outputs": [
    {
     "data": {
      "text/plain": [
       "<matplotlib.collections.PathCollection at 0x231f75b85e0>"
      ]
     },
     "execution_count": 119,
     "metadata": {},
     "output_type": "execute_result"
    },
    {
     "data": {
      "image/png": "[encoded data removed]",
      "text/plain": [
       "<Figure size 720x432 with 1 Axes>"
      ]
     },
     "metadata": {
      "needs_background": "light"
     },
     "output_type": "display_data"
    }
   ],
   "source": [
    "plt.figure(figsize=(10,6))\n",
    "plt.scatter(data[\"Ash\"],data[\"Ash_Alcanity\"],c=label)"
   ]
  },
  {
   "cell_type": "markdown",
   "id": "2da11c07",
   "metadata": {},
   "source": [
    "# DBSCAN with PCA"
   ]
  },
  {
   "cell_type": "code",
   "execution_count": 150,
   "id": "8d9a023e",
   "metadata": {},
   "outputs": [
    {
     "data": {
      "text/plain": [
       "array([[-3.93774209, -1.37334047, -0.86115727],\n",
       "       [-2.27246374,  1.35167631, -0.3201306 ],\n",
       "       [-1.61596864,  2.90114376, -1.63770898],\n",
       "       [-4.42672398, -1.68288436, -2.03682018],\n",
       "       [-0.9306367 , -0.95771496, -0.05360815],\n",
       "       [-3.73918614, -1.65560965, -1.50579834],\n",
       "       [-3.12221469, -1.53264434, -0.63687336],\n",
       "       [-2.4013937 , -0.34464975, -1.53679789],\n",
       "       [-2.76901183,  0.58776981, -1.35683169],\n",
       "       [-3.38437979, -1.34476917, -0.2689098 ],\n",
       "       [-2.5612093 ,  3.13254629, -1.96137633],\n",
       "       [-2.44427863, -1.56029086, -0.14379978],\n",
       "       [-2.77756079, -1.48402558, -0.17670134],\n",
       "       [-3.52983192,  1.21942537, -1.64131355],\n",
       "       [-4.36562412,  1.24347925, -2.54648765],\n",
       "       [-2.73619844, -0.92023125, -1.27395038],\n",
       "       [-1.5738177 ,  1.79482559, -2.72345258],\n",
       "       [-1.28972435,  1.88925379, -2.0724084 ],\n",
       "       [-4.22746276, -1.65786869, -1.86719171],\n",
       "       [-2.74131223, -1.55889015, -0.51611158],\n",
       "       [-3.72269291, -1.22979608, -0.26394733],\n",
       "       [-0.22303313,  2.75135316, -0.91872469],\n",
       "       [-3.1298616 , -1.19831227,  0.58384604],\n",
       "       [-0.7415647 ,  3.07323094, -0.23748655],\n",
       "       [-1.04456024,  2.40458457, -0.23421492],\n",
       "       [-1.21687061, -0.85255664, -0.85666074],\n",
       "       [-2.46078192, -1.66649366, -0.12124912],\n",
       "       [-1.91303619, -1.48973383,  0.51552083],\n",
       "       [-1.50581832,  2.20638255, -1.16397535],\n",
       "       [-2.88424615, -1.2978235 ,  0.27562554],\n",
       "       [-2.71383176, -1.12094662, -0.39683163],\n",
       "       [-1.81823909,  2.83362386, -2.11019833],\n",
       "       [-2.01693865, -0.63663217,  0.21768776],\n",
       "       [-1.30389312,  1.85247759, -2.07037514],\n",
       "       [-0.58698793,  2.64886014, -1.3718638 ],\n",
       "       [-1.74712898, -0.45471372,  0.54512684],\n",
       "       [-2.0845023 , -1.73898694, -0.12524196],\n",
       "       [-0.28658973,  2.77281099, -0.85654891],\n",
       "       [-2.12692364, -1.18974131,  1.12251004],\n",
       "       [-2.64896985,  0.8187029 , -2.23412852],\n",
       "       [-3.21441308, -1.39662248, -0.22909076],\n",
       "       [ 0.14542361,  2.67239969, -0.89913518],\n",
       "       [-3.69236344, -1.39036226, -0.56750471],\n",
       "       [-0.80185344, -0.32926382, -0.35197096],\n",
       "       [-2.71001763, -1.26662897,  0.55102098],\n",
       "       [-0.38783216,  2.26456361, -2.35494273],\n",
       "       [-3.36575043, -1.45263637, -0.61744133],\n",
       "       [-3.43269909, -1.2552852 , -0.13676688],\n",
       "       [-1.17853779,  2.69777599, -1.89354179],\n",
       "       [-3.0146037 , -0.13121863, -1.70465326],\n",
       "       [-3.20832701,  1.60189817, -0.80009351],\n",
       "       [-3.19397823, -0.46775686, -0.41244761],\n",
       "       [-3.72944344,  0.59866149, -1.92308203],\n",
       "       [-2.94628242, -1.87570179, -1.2411736 ],\n",
       "       [-2.81881964, -1.54334271, -0.50094906],\n",
       "       [-2.32250764, -0.55801148, -0.54733306],\n",
       "       [-3.4032446 , -1.53712748, -0.86307486],\n",
       "       [-2.8526072 , -1.67880719, -0.61860727],\n",
       "       [-3.78411337, -1.52238446, -1.11135243],\n",
       "       [ 0.80366028,  1.41635505,  2.05762072],\n",
       "       [ 0.73843083, -1.95980443,  1.68228923],\n",
       "       [ 0.99365227, -2.14405943,  1.15120927],\n",
       "       [ 0.77829781,  2.88969675,  0.33645315],\n",
       "       [-1.0393385 ,  3.61192546,  1.06659993],\n",
       "       [ 1.44564451,  2.84106313,  1.00744806],\n",
       "       [-0.0169925 ,  2.97375632, -0.02934669],\n",
       "       [-2.76526704, -0.63649273,  2.16584946],\n",
       "       [ 0.53924152,  2.67494894,  1.62801821],\n",
       "       [-0.01539176, -2.15275732,  0.64406124],\n",
       "       [-2.4864101 , -0.67555666,  1.63731176],\n",
       "       [ 1.58346368, -0.97268562,  1.4112091 ],\n",
       "       [-1.75751348, -0.05974753,  0.83647745],\n",
       "       [ 0.47404927, -0.59641013,  0.84502648],\n",
       "       [-2.73833958, -0.72030038,  0.127326  ],\n",
       "       [-1.58387261, -0.01259492,  1.90074028],\n",
       "       [ 0.20804525, -1.27998757,  2.6243276 ],\n",
       "       [-0.99143682, -1.04279147,  2.34628313],\n",
       "       [ 2.23064014,  2.54909436,  0.50403929],\n",
       "       [-1.8634999 , -1.09949338,  1.07046762],\n",
       "       [-0.49398574, -0.29205969,  1.09206093],\n",
       "       [ 0.23653255,  3.67735715,  2.37487203],\n",
       "       [-0.11232918,  3.22495369,  0.59887749],\n",
       "       [ 0.3386759 , -0.19149775,  2.10859459],\n",
       "       [ 2.08807247, -2.09688372,  0.79133412],\n",
       "       [ 0.10588056,  3.18685314,  0.66155766],\n",
       "       [ 0.13969563,  3.30237665,  1.1161329 ],\n",
       "       [ 0.57693766, -0.99059074,  2.76248434],\n",
       "       [ 0.41102068, -0.2500693 ,  2.14683931],\n",
       "       [ 1.15539183, -0.89289764,  2.42865326],\n",
       "       [ 0.40551545, -0.14299758,  2.38570112],\n",
       "       [ 2.15752612,  2.72916351,  1.21226414],\n",
       "       [ 1.26974904, -1.3201563 ,  2.42338972],\n",
       "       [ 1.93537992, -1.01506374,  2.10375467],\n",
       "       [ 0.22562752,  3.42446062,  1.4152182 ],\n",
       "       [ 0.01941275,  3.45033755,  1.3216772 ],\n",
       "       [-1.57598717,  3.30128264, -0.92914889],\n",
       "       [ 0.58826661, -0.97411924,  1.02274063],\n",
       "       [-1.57362056, -0.79945247,  2.80957177],\n",
       "       [-1.25930974,  3.52014992,  0.62125698],\n",
       "       [-0.40609691,  3.54644895,  1.30049336],\n",
       "       [-0.98547548,  0.63154102,  2.06385972],\n",
       "       [ 1.41042159,  3.08460954,  1.30992833],\n",
       "       [ 0.27567733, -0.67623629,  1.82575567],\n",
       "       [ 1.36055635,  2.54191018,  1.8702386 ],\n",
       "       [-0.21057853, -0.18191021,  2.62010423],\n",
       "       [ 1.44355906, -1.50279601,  2.35629207],\n",
       "       [ 1.23948229,  3.02976706,  1.26879404],\n",
       "       [ 1.28862206, -1.48530342,  1.96186942],\n",
       "       [ 0.82858574,  3.19611574,  1.40744371],\n",
       "       [-0.77160655,  2.73307269,  0.8646403 ],\n",
       "       [-0.58844142,  2.91978912,  0.74106717],\n",
       "       [ 0.42265154, -0.43354728,  2.48679101],\n",
       "       [ 1.86665483,  1.67281493,  0.17149587],\n",
       "       [ 0.60568927, -0.43381247,  2.81494079],\n",
       "       [ 0.25677845, -1.12395391,  2.58800078],\n",
       "       [-0.23161568,  0.17438979,  4.32939781],\n",
       "       [ 0.44751451, -0.12880197,  3.28940608],\n",
       "       [-0.09010903, -0.87746824,  2.4988712 ],\n",
       "       [ 1.60229558, -2.12751032,  1.56836686],\n",
       "       [ 1.43749068,  3.04849572,  1.32559499],\n",
       "       [ 0.00652169,  2.49406806,  0.80572637],\n",
       "       [-1.57627237, -1.20992789,  0.27577615],\n",
       "       [ 0.83862063, -1.43549676,  0.97741811],\n",
       "       [ 0.51234765, -0.94899053,  1.3457934 ],\n",
       "       [-0.72416332, -0.16116132,  2.12597182],\n",
       "       [ 0.25741412, -0.3808756 ,  2.69369976],\n",
       "       [ 0.0398514 , -0.75451916,  1.96552997],\n",
       "       [ 1.24106001, -1.49651951,  1.50582503],\n",
       "       [ 0.31268773, -0.30969335,  1.73402775],\n",
       "       [ 1.4668041 , -1.5623106 ,  1.81231526],\n",
       "       [ 2.02171478,  2.21167594, -1.01729623],\n",
       "       [ 2.83214714,  1.25992596, -1.02773244],\n",
       "       [ 2.50428106, -1.47885586, -0.44749427],\n",
       "       [ 2.02921002, -1.60835914,  0.28581926],\n",
       "       [ 1.8624356 , -0.9233787 ,  0.30956895],\n",
       "       [ 3.6173421 ,  1.5682743 , -1.13677799],\n",
       "       [ 3.73691534, -1.98322515,  0.50038095],\n",
       "       [ 3.43212333, -1.97774061, -0.70860071],\n",
       "       [ 3.46433025,  0.97513101, -0.98118246],\n",
       "       [ 1.95683671, -1.48743686, -0.38138306],\n",
       "       [ 2.63769479, -1.81630012,  0.41341932],\n",
       "       [ 2.71044185,  1.1860164 , -0.98991151],\n",
       "       [ 2.5145285 , -1.70270407, -0.59227325],\n",
       "       [ 2.80305488,  1.1415234 , -1.06942189],\n",
       "       [ 2.82110627,  1.74535461, -1.92236499],\n",
       "       [ 2.49405052, -1.6983225 ,  0.08620165],\n",
       "       [ 4.58442809,  0.6377567 , -1.28671306],\n",
       "       [ 3.31361678, -2.3727964 , -0.48891611],\n",
       "       [ 2.5593083 , -2.23730316, -0.78823718],\n",
       "       [ 2.64235971, -2.30286849, -1.26649106],\n",
       "       [ 1.83123416, -1.87542031, -2.38644264],\n",
       "       [ 2.01072863, -2.55285657, -1.28105989],\n",
       "       [ 1.39474055, -1.60207498, -1.54811561],\n",
       "       [ 3.25726667,  1.1974242 , -2.79234638],\n",
       "       [ 3.13623662,  1.1047264 , -1.05766255],\n",
       "       [ 3.00038648, -2.84409541, -1.00923976],\n",
       "       [ 3.21293608,  0.63146369, -2.4358549 ],\n",
       "       [ 2.77779145, -2.61185033, -0.94054282],\n",
       "       [ 0.54464414, -2.03066127, -3.36078072],\n",
       "       [ 1.08160398, -2.56291544, -1.52562488],\n",
       "       [ 2.9729929 , -1.95902205, -0.02422696],\n",
       "       [ 2.62385982,  0.94845465, -1.73397586],\n",
       "       [ 2.33823905, -2.38031266,  0.17427876],\n",
       "       [ 3.18729723,  1.66594689, -1.46395291],\n",
       "       [ 2.37364008, -2.59706376, -0.83596032],\n",
       "       [ 2.96315334, -2.58246305, -0.18011127],\n",
       "       [ 1.92054358, -1.97773829, -2.40545999],\n",
       "       [ 3.28386461,  0.84997369, -1.87193128],\n",
       "       [ 1.69687137, -1.84590224, -2.08942082],\n",
       "       [ 1.88076628, -2.03670277, -2.53091449],\n",
       "       [ 3.8168684 ,  1.7564264 , -0.57506497],\n",
       "       [ 3.9926994 ,  0.70567528, -1.46790063],\n",
       "       [ 2.78015551,  0.62247792, -2.69452693],\n",
       "       [ 3.10677682, -2.40519493, -1.4283455 ],\n",
       "       [ 2.14751639, -1.81079818, -1.60886215],\n",
       "       [ 2.98171587,  0.53286384, -3.25480149],\n",
       "       [ 2.71640102,  0.66434629, -2.79719176],\n",
       "       [ 2.61388368, -2.40220751, -2.69053479]])"
      ]
     },
     "execution_count": 150,
     "metadata": {},
     "output_type": "execute_result"
    }
   ],
   "source": [
    "pca3=PCA(n_components=3)\n",
    "y_db=pca3.fit_transform(data)\n",
    "y_db"
   ]
  },
  {
   "cell_type": "code",
   "execution_count": 151,
   "id": "a6b26827",
   "metadata": {},
   "outputs": [
    {
     "data": {
      "text/plain": [
       "array([[-0.17228561,  0.22775138, -0.01068083,  0.226896  , -0.14629935,\n",
       "        -0.37659671, -0.39822462,  0.26981495, -0.28562427,  0.0548743 ,\n",
       "        -0.26556287, -0.34578359, -0.29071207,  0.11564072, -0.26503316,\n",
       "        -0.06415603,  0.11564072,  0.03343135,  0.10402859],\n",
       "       [-0.11769742, -0.10943106, -0.12283101, -0.13281991, -0.03371596,\n",
       "         0.06552404,  0.09858802, -0.13058289,  0.10266283, -0.16093101,\n",
       "         0.16912277,  0.12621687, -0.02032124,  0.44215231, -0.29048553,\n",
       "        -0.4016615 ,  0.44215231,  0.29401203,  0.32357858],\n",
       "       [-0.45473154, -0.20613824, -0.2686283 ,  0.0554128 , -0.28495895,\n",
       "        -0.04185673,  0.02179091, -0.0117316 , -0.03361162, -0.5051314 ,\n",
       "         0.24602176,  0.17558721, -0.34079216, -0.09681574, -0.01739485,\n",
       "         0.20396924, -0.09681574, -0.24751568, -0.07891441]])"
      ]
     },
     "execution_count": 151,
     "metadata": {},
     "output_type": "execute_result"
    }
   ],
   "source": [
    "pca3.components_"
   ]
  },
  {
   "cell_type": "code",
   "execution_count": 152,
   "id": "d912b032",
   "metadata": {},
   "outputs": [],
   "source": [
    "#convert to dataframe\n",
    "db_data=pd.DataFrame(y_db,columns=[\"PC1\",\"PC2\",\"PC3\"])"
   ]
  },
  {
   "cell_type": "code",
   "execution_count": 178,
   "id": "fe25cc88",
   "metadata": {},
   "outputs": [],
   "source": [
    "db1=DBSCAN(eps=1,min_samples=4)\n",
    "model1=db1.fit(y_db)\n",
    "label1=model1.labels_\n"
   ]
  },
  {
   "cell_type": "code",
   "execution_count": 179,
   "id": "3861985b",
   "metadata": {},
   "outputs": [],
   "source": [
    "y_db1=db1.fit_predict(db_data)\n"
   ]
  },
  {
   "cell_type": "code",
   "execution_count": 187,
   "id": "aec639a2",
   "metadata": {},
   "outputs": [
    {
     "name": "stdout",
     "output_type": "stream",
     "text": [
      "Number of clusters: 4\n",
      "Number of noise points: 14\n"
     ]
    }
   ],
   "source": [
    "# Number of clusters in labels, ignoring noise if present.\n",
    "n_clusters_ = len(set(label1)) - (1 if -1 in label1 else 0)\n",
    "n_noise_ = list(label1).count(-1)\n",
    "print('Number of clusters: %d' % n_clusters_)\n",
    "print('Number of noise points: %d' % n_noise_)\n",
    "#print(\"Silhouette Coefficient: %0.3f\" % metrics.silhouette_score(y_db1, labels))"
   ]
  },
  {
   "cell_type": "code",
   "execution_count": 181,
   "id": "b1a0b746",
   "metadata": {},
   "outputs": [
    {
     "data": {
      "text/plain": [
       "0.37667256709086067"
      ]
     },
     "execution_count": 181,
     "metadata": {},
     "output_type": "execute_result"
    }
   ],
   "source": [
    "sc6=silhouette_score(db_data,y_db1)\n",
    "sc6"
   ]
  },
  {
   "cell_type": "code",
   "execution_count": 185,
   "id": "6c42949c",
   "metadata": {},
   "outputs": [
    {
     "name": "stdout",
     "output_type": "stream",
     "text": [
      "Collecting plotly\n",
      "  Downloading plotly-5.11.0-py2.py3-none-any.whl (15.3 MB)\n",
      "     ---------------------------------------- 15.3/15.3 MB 8.8 MB/s eta 0:00:00\n",
      "Collecting tenacity>=6.2.0\n",
      "  Downloading tenacity-8.1.0-py3-none-any.whl (23 kB)\n",
      "Installing collected packages: tenacity, plotly\n",
      "Successfully installed plotly-5.11.0 tenacity-8.1.0\n",
      "Note: you may need to restart the kernel to use updated packages.\n"
     ]
    }
   ],
   "source": [
    "pip install plotly"
   ]
  },
  {
   "cell_type": "code",
   "execution_count": 186,
   "id": "b9238015",
   "metadata": {},
   "outputs": [],
   "source": [
    "import plotly.graph_objs as go"
   ]
  },
  {
   "cell_type": "code",
   "execution_count": 190,
   "id": "a648d47a",
   "metadata": {
    "scrolled": true
   },
   "outputs": [
    {
     "data": {
      "application/vnd.plotly.v1+json": {
       "config": {
        "plotlyServerURL": "https://plot.ly"
       },
       "data": [
        {
         "marker": {
          "color": [
           0,
           -1,
           1,
           0,
           0,
           0,
           0,
           0,
           0,
           0,
           1,
           0,
           0,
           -1,
           -1,
           0,
           1,
           1,
           0,
           0,
           0,
           1,
           0,
           1,
           1,
           0,
           0,
           0,
           1,
           0,
           0,
           1,
           0,
           1,
           1,
           0,
           0,
           1,
           0,
           -1,
           0,
           1,
           0,
           0,
           0,
           -1,
           0,
           0,
           1,
           0,
           -1,
           0,
           -1,
           0,
           0,
           0,
           0,
           0,
           0,
           -1,
           2,
           2,
           1,
           1,
           1,
           1,
           0,
           1,
           -1,
           0,
           2,
           0,
           2,
           0,
           2,
           2,
           2,
           1,
           0,
           -1,
           1,
           1,
           2,
           2,
           1,
           1,
           2,
           2,
           2,
           2,
           1,
           2,
           2,
           1,
           1,
           1,
           2,
           2,
           1,
           1,
           2,
           1,
           2,
           1,
           2,
           2,
           1,
           2,
           1,
           1,
           1,
           2,
           -1,
           2,
           2,
           -1,
           2,
           2,
           2,
           1,
           1,
           0,
           2,
           2,
           2,
           2,
           2,
           2,
           2,
           2,
           -1,
           3,
           2,
           2,
           2,
           3,
           2,
           2,
           3,
           2,
           2,
           3,
           2,
           3,
           3,
           2,
           3,
           2,
           2,
           2,
           2,
           2,
           2,
           3,
           3,
           2,
           3,
           2,
           -1,
           2,
           2,
           3,
           2,
           3,
           2,
           2,
           2,
           3,
           2,
           2,
           3,
           3,
           3,
           2,
           2,
           3,
           3,
           2
          ],
          "colorscale": [
           [
            0,
            "#440154"
           ],
           [
            0.1111111111111111,
            "#482878"
           ],
           [
            0.2222222222222222,
            "#3e4989"
           ],
           [
            0.3333333333333333,
            "#31688e"
           ],
           [
            0.4444444444444444,
            "#26828e"
           ],
           [
            0.5555555555555556,
            "#1f9e89"
           ],
           [
            0.6666666666666666,
            "#35b779"
           ],
           [
            0.7777777777777778,
            "#6ece58"
           ],
           [
            0.8888888888888888,
            "#b5de2b"
           ],
           [
            1,
            "#fde725"
           ]
          ],
          "line": {
           "color": "gray",
           "width": 5
          },
          "size": 10
         },
         "mode": "markers",
         "type": "scatter3d",
         "x": [
          -3.9377420852688516,
          -2.272463743986781,
          -1.6159686429338314,
          -4.426723978093635,
          -0.9306367036819654,
          -3.7391861427326414,
          -3.1222146878381967,
          -2.401393700787094,
          -2.769011828178119,
          -3.38437978876111,
          -2.561209297201187,
          -2.444278628074996,
          -2.777560790460124,
          -3.529831917489262,
          -4.3656241211782305,
          -2.7361984382626265,
          -1.57381769776719,
          -1.289724349427234,
          -4.22746275810848,
          -2.7413122320644887,
          -3.722692909792124,
          -0.2230331317356936,
          -3.129861601339255,
          -0.7415647018872459,
          -1.0445602426523408,
          -1.2168706095670239,
          -2.460781923556406,
          -1.9130361917738974,
          -1.5058183189776992,
          -2.884246152059029,
          -2.7138317560858405,
          -1.8182390852063377,
          -2.016938651620738,
          -1.3038931170692525,
          -0.5869879311712912,
          -1.7471289802291028,
          -2.084502299055873,
          -0.28658973300191015,
          -2.1269236385371295,
          -2.64896985393347,
          -3.2144130755363824,
          0.14542361315756533,
          -3.6923634357243045,
          -0.8018534409593439,
          -2.710017628540777,
          -0.38783215626405393,
          -3.3657504293295606,
          -3.4326990926038357,
          -1.1785377894922484,
          -3.0146036969975762,
          -3.2083270117297036,
          -3.1939782274434405,
          -3.729443435457181,
          -2.946282421085449,
          -2.8188196398482988,
          -2.3225076401693734,
          -3.4032446011779554,
          -2.8526071971594127,
          -3.7841133666448314,
          0.8036602827159183,
          0.7384308329413983,
          0.9936522703239075,
          0.7782978095364409,
          -1.039338497063771,
          1.445644506847531,
          -0.01699250035661676,
          -2.7652670392599994,
          0.5392415153319046,
          -0.015391756600665064,
          -2.486410101488962,
          1.583463683038755,
          -1.757513480247158,
          0.4740492680436458,
          -2.73833958116689,
          -1.5838726106364802,
          0.20804525416873362,
          -0.9914368210507449,
          2.2306401431555565,
          -1.863499901096076,
          -0.493985744905388,
          0.2365325531544737,
          -0.11232918394988078,
          0.3386758982448221,
          2.0880724719058437,
          0.10588055777066267,
          0.13969563291431905,
          0.5769376591355486,
          0.4110206832263766,
          1.1553918260944271,
          0.40551544990957133,
          2.157526120844899,
          1.269749043458925,
          1.9353799245474408,
          0.22562751988111643,
          0.019412754489387476,
          -1.5759871674438806,
          0.5882666136863348,
          -1.5736205619044275,
          -1.2593097443187253,
          -0.40609691291869576,
          -0.9854754789351612,
          1.4104215878491466,
          0.27567733132676775,
          1.3605563533815235,
          -0.2105785261341145,
          1.4435590561975309,
          1.2394822940183479,
          1.2886220561559583,
          0.8285857409195885,
          -0.7716065491622472,
          -0.5884414151620275,
          0.42265153779477294,
          1.8666548338842424,
          0.6056892657356345,
          0.2567784468485211,
          -0.23161568174541605,
          0.44751451150987004,
          -0.09010903435600506,
          1.6022955783402617,
          1.4374906797820572,
          0.00652169124177301,
          -1.5762723683267466,
          0.8386206252587581,
          0.5123476503533004,
          -0.7241633196397953,
          0.25741412197862545,
          0.0398514012505227,
          1.2410600063116706,
          0.312687726373903,
          1.4668041048043328,
          2.021714779471288,
          2.8321471435164316,
          2.504281058441145,
          2.029210024057541,
          1.862435601473562,
          3.6173420957881954,
          3.73691534223556,
          3.432123333720502,
          3.4643302531215077,
          1.956836707705889,
          2.6376947939782496,
          2.7104418484957282,
          2.5145284994102526,
          2.803054880783976,
          2.8211062732736325,
          2.4940505219801303,
          4.584428088448081,
          3.3136167831651977,
          2.559308303782875,
          2.642359713156277,
          1.831234155395534,
          2.0107286335023136,
          1.394740548973385,
          3.257266666388808,
          3.1362366189594324,
          3.0003864787304617,
          3.2129360762362724,
          2.7777914460875914,
          0.5446441393141505,
          1.0816039807275526,
          2.9729929017713235,
          2.6238598200435974,
          2.3382390534586346,
          3.1872972320227198,
          2.3736400823404975,
          2.9631533396146597,
          1.9205435778806974,
          3.2838646147227744,
          1.6968713684326706,
          1.880766281096721,
          3.8168684016073873,
          3.992699397850527,
          2.780155509981792,
          3.106776815932332,
          2.147516387639739,
          2.981715867718613,
          2.7164010165683745,
          2.6138836767341007
         ],
         "y": [
          -1.3733404722704183,
          1.3516763076659235,
          2.901143763335218,
          -1.682884362680991,
          -0.9577149569577436,
          -1.655609646365105,
          -1.532644336741853,
          -0.3446497454588932,
          0.5877698146787113,
          -1.344769171137457,
          3.132546286494436,
          -1.5602908554838164,
          -1.4840255813666337,
          1.2194253723115664,
          1.243479246803179,
          -0.9202312466669599,
          1.7948255919275111,
          1.8892537896905817,
          -1.6578686895036019,
          -1.5588901498045968,
          -1.2297960798929126,
          2.7513531621213443,
          -1.1983122716647687,
          3.073230938108164,
          2.404584571379158,
          -0.8525566445316902,
          -1.6664936630324176,
          -1.4897338291570412,
          2.206382545586366,
          -1.2978235004177838,
          -1.120946624568329,
          2.8336238621528875,
          -0.6366321660375305,
          1.8524775855943545,
          2.648860137925225,
          -0.45471371930543414,
          -1.7389869372133193,
          2.772810990626061,
          -1.189741309393161,
          0.8187029026197122,
          -1.3966224818916315,
          2.6723996854468948,
          -1.3903622621663683,
          -0.3292638235086665,
          -1.2666289744943187,
          2.2645636125630784,
          -1.4526363718783408,
          -1.2552851958933984,
          2.6977759863084474,
          -0.13121862697078782,
          1.6018981701141752,
          -0.4677568618717789,
          0.5986614911249065,
          -1.8757017903107702,
          -1.5433427098377588,
          -0.5580114769553813,
          -1.5371274779342026,
          -1.6788071897181547,
          -1.5223844606211592,
          1.4163550538730443,
          -1.959804429841572,
          -2.144059430909619,
          2.8896967537078604,
          3.6119254556633313,
          2.8410631280293916,
          2.973756315711742,
          -0.6364927293794819,
          2.674948941127829,
          -2.152757321113743,
          -0.6755566596715816,
          -0.9726856162013778,
          -0.059747534051929445,
          -0.5964101321743447,
          -0.7203003756031089,
          -0.012594915867777359,
          -1.2799875717844833,
          -1.0427914742110238,
          2.549094357621494,
          -1.099493382014096,
          -0.29205968900924084,
          3.6773571456287404,
          3.2249536868118645,
          -0.1914977545116819,
          -2.0968837168611865,
          3.186853137475076,
          3.302376652322369,
          -0.9905907419927124,
          -0.25006930149748174,
          -0.8928976377500559,
          -0.14299757710825986,
          2.729163512572129,
          -1.3201562998174414,
          -1.0150637404143272,
          3.424460623549852,
          3.450337551704503,
          3.3012826421608774,
          -0.974119239540821,
          -0.7994524671328784,
          3.520149918786318,
          3.5464489530233054,
          0.6315410230260737,
          3.0846095383025443,
          -0.6762362931390771,
          2.5419101790832603,
          -0.18191020558021126,
          -1.5027960149989832,
          3.029767061679615,
          -1.4853034209227916,
          3.196115735848108,
          2.7330726921208863,
          2.919789118990175,
          -0.43354728327359565,
          1.6728149299652935,
          -0.43381247494842173,
          -1.1239539092075923,
          0.17438979356754652,
          -0.12880197475547492,
          -0.877468235281418,
          -2.1275103246996223,
          3.0484957200466494,
          2.4940680601019127,
          -1.209927894481158,
          -1.4354967563183028,
          -0.9489905344731308,
          -0.16116132427212415,
          -0.3808755964365577,
          -0.7545191564189354,
          -1.4965195076291733,
          -0.3096933509717417,
          -1.5623105989540216,
          2.2116759437935376,
          1.2599259576724262,
          -1.4788558634758573,
          -1.6083591353313387,
          -0.9233787047241714,
          1.5682742976065027,
          -1.9832251476245435,
          -1.9777406129028785,
          0.975131008026343,
          -1.4874368619889762,
          -1.8163001173326214,
          1.186016404374367,
          -1.7027040694652358,
          1.1415233951915869,
          1.7453546101852595,
          -1.6983224980094107,
          0.6377567039185046,
          -2.372796404794442,
          -2.2373031599458892,
          -2.3028684943003577,
          -1.875420307160089,
          -2.5528565675786723,
          -1.6020749819396667,
          1.1974242012274898,
          1.1047264043575529,
          -2.844095414716401,
          0.631463692269514,
          -2.6118503321416813,
          -2.0306612707429204,
          -2.562915436277064,
          -1.959022046937982,
          0.9484546516652049,
          -2.3803126595830735,
          1.6659468936141866,
          -2.5970637632421614,
          -2.5824630474570025,
          -1.977738286651921,
          0.8499736876908423,
          -1.8459022388470454,
          -2.0367027724865054,
          1.7564264010014297,
          0.7056752759536884,
          0.6224779159440765,
          -2.405194927549249,
          -1.8107981761262986,
          0.5328638357884851,
          0.6643462918112614,
          -2.402207510910758
         ],
         "z": [
          -0.8611572706537488,
          -0.3201305961289447,
          -1.637708977374124,
          -2.036820184156518,
          -0.05360815147948515,
          -1.5057983444899639,
          -0.6368733582454829,
          -1.5367978890024188,
          -1.3568316863223733,
          -0.26890980437780465,
          -1.961376328577449,
          -0.14379978130105436,
          -0.17670134175037777,
          -1.6413135481185306,
          -2.5464876456745404,
          -1.27395038209538,
          -2.723452581285272,
          -2.0724084013031554,
          -1.8671917104501359,
          -0.516111581744664,
          -0.2639473265258213,
          -0.9187246850155288,
          0.5838460382709156,
          -0.23748654522826795,
          -0.23421491949950332,
          -0.8566607354195243,
          -0.12124912377092686,
          0.5155208327735576,
          -1.1639753514049567,
          0.2756255445230131,
          -0.3968316309724855,
          -2.110198329720354,
          0.21768776156947198,
          -2.070375140084132,
          -1.3718637974330068,
          0.545126835223466,
          -0.1252419583359282,
          -0.8565489087518849,
          1.1225100394831566,
          -2.2341285172377825,
          -0.2290907589805414,
          -0.8991351831296754,
          -0.5675047090363932,
          -0.3519709610020614,
          0.5510209791156363,
          -2.354942726420602,
          -0.617441329822556,
          -0.13676687734784915,
          -1.893541792579258,
          -1.7046532589019634,
          -0.8000935117642879,
          -0.4124476144847005,
          -1.9230820299716862,
          -1.2411735984271497,
          -0.5009490633885044,
          -0.5473330645094501,
          -0.8630748593669658,
          -0.6186072664567787,
          -1.1113524344022212,
          2.057620722802022,
          1.6822892322085397,
          1.1512092666399338,
          0.3364531513638731,
          1.0665999282515346,
          1.0074480574324414,
          -0.029346687717776248,
          2.1658494558590586,
          1.6280182135304218,
          0.6440612369143892,
          1.637311763851025,
          1.4112091046386794,
          0.8364774537262636,
          0.8450264841579691,
          0.12732599612615347,
          1.9007402811103464,
          2.6243275999404854,
          2.3462831325972933,
          0.5040392877361545,
          1.070467621086972,
          1.0920609271545536,
          2.374872033344922,
          0.5988774895982891,
          2.108594592308222,
          0.7913341170443954,
          0.6615576626579882,
          1.1161329019531199,
          2.7624843402603796,
          2.1468393103578487,
          2.4286532645714876,
          2.3857011196849904,
          1.2122641371431433,
          2.423389716810429,
          2.103754665414439,
          1.415218200382198,
          1.321677198868767,
          -0.9291488882284106,
          1.022740630062328,
          2.809571766804438,
          0.6212569780636763,
          1.3004933560759877,
          2.0638597216195764,
          1.3099283315669485,
          1.8257556733089517,
          1.8702385971825728,
          2.62010422652602,
          2.3562920715826507,
          1.2687940411740062,
          1.961869424898463,
          1.4074437141181932,
          0.86464030193786,
          0.7410671749529167,
          2.486791006523245,
          0.17149586507611916,
          2.8149407946954668,
          2.5880007817639763,
          4.329397806057672,
          3.289406075966997,
          2.498871201111267,
          1.56836685865279,
          1.3255949935438343,
          0.8057263724647122,
          0.2757761520265268,
          0.9774181050235962,
          1.3457934013478998,
          2.1259718239127734,
          2.693699764526093,
          1.9655299731248965,
          1.5058250335152161,
          1.7340277493218894,
          1.8123152593242464,
          -1.0172962311852567,
          -1.0277324363914855,
          -0.44749427367484035,
          0.2858192561460954,
          0.3095689496319979,
          -1.1367779851404793,
          0.5003809451113119,
          -0.7086007061828732,
          -0.9811824624886221,
          -0.38138305587691174,
          0.4134193241514535,
          -0.9899115069623678,
          -0.5922732532093494,
          -1.0694218938120272,
          -1.9223649946293053,
          0.08620165281130694,
          -1.2867130577206456,
          -0.4889161117240217,
          -0.7882371750965758,
          -1.2664910586243026,
          -2.3864426385674222,
          -1.2810598874283676,
          -1.5481156113325651,
          -2.7923463795160397,
          -1.0576625516523948,
          -1.0092397632627335,
          -2.435854897354962,
          -0.9405428161475758,
          -3.360780721119805,
          -1.525624884305381,
          -0.024226955157484725,
          -1.7339758563447003,
          0.1742787567388472,
          -1.463952907528439,
          -0.8359603229083261,
          -0.18011127168746788,
          -2.4054599871178257,
          -1.8719312803458605,
          -2.089420819623811,
          -2.530914490883957,
          -0.5750649739878069,
          -1.4679006257605565,
          -2.6945269257150044,
          -1.4283454992317086,
          -1.6088621517649504,
          -3.254801494636373,
          -2.7971917557653883,
          -2.690534789196446
         ]
        }
       ],
       "layout": {
        "font": {
         "size": 18
        },
        "height": 1000,
        "scene": {
         "xaxis": {
          "title": {
           "text": "PC1"
          }
         },
         "yaxis": {
          "title": {
           "text": "PC2"
          }
         },
         "zaxis": {
          "title": {
           "text": "PC3"
          }
         }
        },
        "template": {
         "data": {
          "bar": [
           {
            "error_x": {
             "color": "#2a3f5f"
            },
            "error_y": {
             "color": "#2a3f5f"
            },
            "marker": {
             "line": {
              "color": "#E5ECF6",
              "width": 0.5
             },
             "pattern": {
              "fillmode": "overlay",
              "size": 10,
              "solidity": 0.2
             }
            },
            "type": "bar"
           }
          ],
          "barpolar": [
           {
            "marker": {
             "line": {
              "color": "#E5ECF6",
              "width": 0.5
             },
             "pattern": {
              "fillmode": "overlay",
              "size": 10,
              "solidity": 0.2
             }
            },
            "type": "barpolar"
           }
          ],
          "carpet": [
           {
            "aaxis": {
             "endlinecolor": "#2a3f5f",
             "gridcolor": "white",
             "linecolor": "white",
             "minorgridcolor": "white",
             "startlinecolor": "#2a3f5f"
            },
            "baxis": {
             "endlinecolor": "#2a3f5f",
             "gridcolor": "white",
             "linecolor": "white",
             "minorgridcolor": "white",
             "startlinecolor": "#2a3f5f"
            },
            "type": "carpet"
           }
          ],
          "choropleth": [
           {
            "colorbar": {
             "outlinewidth": 0,
             "ticks": ""
            },
            "type": "choropleth"
           }
          ],
          "contour": [
           {
            "colorbar": {
             "outlinewidth": 0,
             "ticks": ""
            },
            "colorscale": [
             [
              0,
              "#0d0887"
             ],
             [
              0.1111111111111111,
              "#46039f"
             ],
             [
              0.2222222222222222,
              "#7201a8"
             ],
             [
              0.3333333333333333,
              "#9c179e"
             ],
             [
              0.4444444444444444,
              "#bd3786"
             ],
             [
              0.5555555555555556,
              "#d8576b"
             ],
             [
              0.6666666666666666,
              "#ed7953"
             ],
             [
              0.7777777777777778,
              "#fb9f3a"
             ],
             [
              0.8888888888888888,
              "#fdca26"
             ],
             [
              1,
              "#f0f921"
             ]
            ],
            "type": "contour"
           }
          ],
          "contourcarpet": [
           {
            "colorbar": {
             "outlinewidth": 0,
             "ticks": ""
            },
            "type": "contourcarpet"
           }
          ],
          "heatmap": [
           {
            "colorbar": {
             "outlinewidth": 0,
             "ticks": ""
            },
            "colorscale": [
             [
              0,
              "#0d0887"
             ],
             [
              0.1111111111111111,
              "#46039f"
             ],
             [
              0.2222222222222222,
              "#7201a8"
             ],
             [
              0.3333333333333333,
              "#9c179e"
             ],
             [
              0.4444444444444444,
              "#bd3786"
             ],
             [
              0.5555555555555556,
              "#d8576b"
             ],
             [
              0.6666666666666666,
              "#ed7953"
             ],
             [
              0.7777777777777778,
              "#fb9f3a"
             ],
             [
              0.8888888888888888,
              "#fdca26"
             ],
             [
              1,
              "#f0f921"
             ]
            ],
            "type": "heatmap"
           }
          ],
          "heatmapgl": [
           {
            "colorbar": {
             "outlinewidth": 0,
             "ticks": ""
            },
            "colorscale": [
             [
              0,
              "#0d0887"
             ],
             [
              0.1111111111111111,
              "#46039f"
             ],
             [
              0.2222222222222222,
              "#7201a8"
             ],
             [
              0.3333333333333333,
              "#9c179e"
             ],
             [
              0.4444444444444444,
              "#bd3786"
             ],
             [
              0.5555555555555556,
              "#d8576b"
             ],
             [
              0.6666666666666666,
              "#ed7953"
             ],
             [
              0.7777777777777778,
              "#fb9f3a"
             ],
             [
              0.8888888888888888,
              "#fdca26"
             ],
             [
              1,
              "#f0f921"
             ]
            ],
            "type": "heatmapgl"
           }
          ],
          "histogram": [
           {
            "marker": {
             "pattern": {
              "fillmode": "overlay",
              "size": 10,
              "solidity": 0.2
             }
            },
            "type": "histogram"
           }
          ],
          "histogram2d": [
           {
            "colorbar": {
             "outlinewidth": 0,
             "ticks": ""
            },
            "colorscale": [
             [
              0,
              "#0d0887"
             ],
             [
              0.1111111111111111,
              "#46039f"
             ],
             [
              0.2222222222222222,
              "#7201a8"
             ],
             [
              0.3333333333333333,
              "#9c179e"
             ],
             [
              0.4444444444444444,
              "#bd3786"
             ],
             [
              0.5555555555555556,
              "#d8576b"
             ],
             [
              0.6666666666666666,
              "#ed7953"
             ],
             [
              0.7777777777777778,
              "#fb9f3a"
             ],
             [
              0.8888888888888888,
              "#fdca26"
             ],
             [
              1,
              "#f0f921"
             ]
            ],
            "type": "histogram2d"
           }
          ],
          "histogram2dcontour": [
           {
            "colorbar": {
             "outlinewidth": 0,
             "ticks": ""
            },
            "colorscale": [
             [
              0,
              "#0d0887"
             ],
             [
              0.1111111111111111,
              "#46039f"
             ],
             [
              0.2222222222222222,
              "#7201a8"
             ],
             [
              0.3333333333333333,
              "#9c179e"
             ],
             [
              0.4444444444444444,
              "#bd3786"
             ],
             [
              0.5555555555555556,
              "#d8576b"
             ],
             [
              0.6666666666666666,
              "#ed7953"
             ],
             [
              0.7777777777777778,
              "#fb9f3a"
             ],
             [
              0.8888888888888888,
              "#fdca26"
             ],
             [
              1,
              "#f0f921"
             ]
            ],
            "type": "histogram2dcontour"
           }
          ],
          "mesh3d": [
           {
            "colorbar": {
             "outlinewidth": 0,
             "ticks": ""
            },
            "type": "mesh3d"
           }
          ],
          "parcoords": [
           {
            "line": {
             "colorbar": {
              "outlinewidth": 0,
              "ticks": ""
             }
            },
            "type": "parcoords"
           }
          ],
          "pie": [
           {
            "automargin": true,
            "type": "pie"
           }
          ],
          "scatter": [
           {
            "fillpattern": {
             "fillmode": "overlay",
             "size": 10,
             "solidity": 0.2
            },
            "type": "scatter"
           }
          ],
          "scatter3d": [
           {
            "line": {
             "colorbar": {
              "outlinewidth": 0,
              "ticks": ""
             }
            },
            "marker": {
             "colorbar": {
              "outlinewidth": 0,
              "ticks": ""
             }
            },
            "type": "scatter3d"
           }
          ],
          "scattercarpet": [
           {
            "marker": {
             "colorbar": {
              "outlinewidth": 0,
              "ticks": ""
             }
            },
            "type": "scattercarpet"
           }
          ],
          "scattergeo": [
           {
            "marker": {
             "colorbar": {
              "outlinewidth": 0,
              "ticks": ""
             }
            },
            "type": "scattergeo"
           }
          ],
          "scattergl": [
           {
            "marker": {
             "colorbar": {
              "outlinewidth": 0,
              "ticks": ""
             }
            },
            "type": "scattergl"
           }
          ],
          "scattermapbox": [
           {
            "marker": {
             "colorbar": {
              "outlinewidth": 0,
              "ticks": ""
             }
            },
            "type": "scattermapbox"
           }
          ],
          "scatterpolar": [
           {
            "marker": {
             "colorbar": {
              "outlinewidth": 0,
              "ticks": ""
             }
            },
            "type": "scatterpolar"
           }
          ],
          "scatterpolargl": [
           {
            "marker": {
             "colorbar": {
              "outlinewidth": 0,
              "ticks": ""
             }
            },
            "type": "scatterpolargl"
           }
          ],
          "scatterternary": [
           {
            "marker": {
             "colorbar": {
              "outlinewidth": 0,
              "ticks": ""
             }
            },
            "type": "scatterternary"
           }
          ],
          "surface": [
           {
            "colorbar": {
             "outlinewidth": 0,
             "ticks": ""
            },
            "colorscale": [
             [
              0,
              "#0d0887"
             ],
             [
              0.1111111111111111,
              "#46039f"
             ],
             [
              0.2222222222222222,
              "#7201a8"
             ],
             [
              0.3333333333333333,
              "#9c179e"
             ],
             [
              0.4444444444444444,
              "#bd3786"
             ],
             [
              0.5555555555555556,
              "#d8576b"
             ],
             [
              0.6666666666666666,
              "#ed7953"
             ],
             [
              0.7777777777777778,
              "#fb9f3a"
             ],
             [
              0.8888888888888888,
              "#fdca26"
             ],
             [
              1,
              "#f0f921"
             ]
            ],
            "type": "surface"
           }
          ],
          "table": [
           {
            "cells": {
             "fill": {
              "color": "#EBF0F8"
             },
             "line": {
              "color": "white"
             }
            },
            "header": {
             "fill": {
              "color": "#C8D4E3"
             },
             "line": {
              "color": "white"
             }
            },
            "type": "table"
           }
          ]
         },
         "layout": {
          "annotationdefaults": {
           "arrowcolor": "#2a3f5f",
           "arrowhead": 0,
           "arrowwidth": 1
          },
          "autotypenumbers": "strict",
          "coloraxis": {
           "colorbar": {
            "outlinewidth": 0,
            "ticks": ""
           }
          },
          "colorscale": {
           "diverging": [
            [
             0,
             "#8e0152"
            ],
            [
             0.1,
             "#c51b7d"
            ],
            [
             0.2,
             "#de77ae"
            ],
            [
             0.3,
             "#f1b6da"
            ],
            [
             0.4,
             "#fde0ef"
            ],
            [
             0.5,
             "#f7f7f7"
            ],
            [
             0.6,
             "#e6f5d0"
            ],
            [
             0.7,
             "#b8e186"
            ],
            [
             0.8,
             "#7fbc41"
            ],
            [
             0.9,
             "#4d9221"
            ],
            [
             1,
             "#276419"
            ]
           ],
           "sequential": [
            [
             0,
             "#0d0887"
            ],
            [
             0.1111111111111111,
             "#46039f"
            ],
            [
             0.2222222222222222,
             "#7201a8"
            ],
            [
             0.3333333333333333,
             "#9c179e"
            ],
            [
             0.4444444444444444,
             "#bd3786"
            ],
            [
             0.5555555555555556,
             "#d8576b"
            ],
            [
             0.6666666666666666,
             "#ed7953"
            ],
            [
             0.7777777777777778,
             "#fb9f3a"
            ],
            [
             0.8888888888888888,
             "#fdca26"
            ],
            [
             1,
             "#f0f921"
            ]
           ],
           "sequentialminus": [
            [
             0,
             "#0d0887"
            ],
            [
             0.1111111111111111,
             "#46039f"
            ],
            [
             0.2222222222222222,
             "#7201a8"
            ],
            [
             0.3333333333333333,
             "#9c179e"
            ],
            [
             0.4444444444444444,
             "#bd3786"
            ],
            [
             0.5555555555555556,
             "#d8576b"
            ],
            [
             0.6666666666666666,
             "#ed7953"
            ],
            [
             0.7777777777777778,
             "#fb9f3a"
            ],
            [
             0.8888888888888888,
             "#fdca26"
            ],
            [
             1,
             "#f0f921"
            ]
           ]
          },
          "colorway": [
           "#636efa",
           "#EF553B",
           "#00cc96",
           "#ab63fa",
           "#FFA15A",
           "#19d3f3",
           "#FF6692",
           "#B6E880",
           "#FF97FF",
           "#FECB52"
          ],
          "font": {
           "color": "#2a3f5f"
          },
          "geo": {
           "bgcolor": "white",
           "lakecolor": "white",
           "landcolor": "#E5ECF6",
           "showlakes": true,
           "showland": true,
           "subunitcolor": "white"
          },
          "hoverlabel": {
           "align": "left"
          },
          "hovermode": "closest",
          "mapbox": {
           "style": "light"
          },
          "paper_bgcolor": "white",
          "plot_bgcolor": "#E5ECF6",
          "polar": {
           "angularaxis": {
            "gridcolor": "white",
            "linecolor": "white",
            "ticks": ""
           },
           "bgcolor": "#E5ECF6",
           "radialaxis": {
            "gridcolor": "white",
            "linecolor": "white",
            "ticks": ""
           }
          },
          "scene": {
           "xaxis": {
            "backgroundcolor": "#E5ECF6",
            "gridcolor": "white",
            "gridwidth": 2,
            "linecolor": "white",
            "showbackground": true,
            "ticks": "",
            "zerolinecolor": "white"
           },
           "yaxis": {
            "backgroundcolor": "#E5ECF6",
            "gridcolor": "white",
            "gridwidth": 2,
            "linecolor": "white",
            "showbackground": true,
            "ticks": "",
            "zerolinecolor": "white"
           },
           "zaxis": {
            "backgroundcolor": "#E5ECF6",
            "gridcolor": "white",
            "gridwidth": 2,
            "linecolor": "white",
            "showbackground": true,
            "ticks": "",
            "zerolinecolor": "white"
           }
          },
          "shapedefaults": {
           "line": {
            "color": "#2a3f5f"
           }
          },
          "ternary": {
           "aaxis": {
            "gridcolor": "white",
            "linecolor": "white",
            "ticks": ""
           },
           "baxis": {
            "gridcolor": "white",
            "linecolor": "white",
            "ticks": ""
           },
           "bgcolor": "#E5ECF6",
           "caxis": {
            "gridcolor": "white",
            "linecolor": "white",
            "ticks": ""
           }
          },
          "title": {
           "x": 0.05
          },
          "xaxis": {
           "automargin": true,
           "gridcolor": "white",
           "linecolor": "white",
           "ticks": "",
           "title": {
            "standoff": 15
           },
           "zerolinecolor": "white",
           "zerolinewidth": 2
          },
          "yaxis": {
           "automargin": true,
           "gridcolor": "white",
           "linecolor": "white",
           "ticks": "",
           "title": {
            "standoff": 15
           },
           "zerolinecolor": "white",
           "zerolinewidth": 2
          }
         }
        },
        "title": {
         "text": "DBSCAN clusters with PCA"
        },
        "width": 1000
       }
      },
      "text/html": [
       "<div>                            <div id=\"d56a4fee-c2d8-4eb0-87ee-73efb7654f4d\" class=\"plotly-graph-div\" style=\"height:1000px; width:1000px;\"></div>            <script type=\"text/javascript\">                require([\"plotly\"], function(Plotly) {                    window.PLOTLYENV=window.PLOTLYENV || {};                                    if (document.getElementById(\"d56a4fee-c2d8-4eb0-87ee-73efb7654f4d\")) {                    Plotly.newPlot(                        \"d56a4fee-c2d8-4eb0-87ee-73efb7654f4d\",                        [{\"marker\":{\"color\":[0,-1,1,0,0,0,0,0,0,0,1,0,0,-1,-1,0,1,1,0,0,0,1,0,1,1,0,0,0,1,0,0,1,0,1,1,0,0,1,0,-1,0,1,0,0,0,-1,0,0,1,0,-1,0,-1,0,0,0,0,0,0,-1,2,2,1,1,1,1,0,1,-1,0,2,0,2,0,2,2,2,1,0,-1,1,1,2,2,1,1,2,2,2,2,1,2,2,1,1,1,2,2,1,1,2,1,2,1,2,2,1,2,1,1,1,2,-1,2,2,-1,2,2,2,1,1,0,2,2,2,2,2,2,2,2,-1,3,2,2,2,3,2,2,3,2,2,3,2,3,3,2,3,2,2,2,2,2,2,3,3,2,3,2,-1,2,2,3,2,3,2,2,2,3,2,2,3,3,3,2,2,3,3,2],\"colorscale\":[[0.0,\"#440154\"],[0.1111111111111111,\"#482878\"],[0.2222222222222222,\"#3e4989\"],[0.3333333333333333,\"#31688e\"],[0.4444444444444444,\"#26828e\"],[0.5555555555555556,\"#1f9e89\"],[0.6666666666666666,\"#35b779\"],[0.7777777777777778,\"#6ece58\"],[0.8888888888888888,\"#b5de2b\"],[1.0,\"#fde725\"]],\"line\":{\"color\":\"gray\",\"width\":5},\"size\":10},\"mode\":\"markers\",\"x\":[-3.9377420852688516,-2.272463743986781,-1.6159686429338314,-4.426723978093635,-0.9306367036819654,-3.7391861427326414,-3.1222146878381967,-2.401393700787094,-2.769011828178119,-3.38437978876111,-2.561209297201187,-2.444278628074996,-2.777560790460124,-3.529831917489262,-4.3656241211782305,-2.7361984382626265,-1.57381769776719,-1.289724349427234,-4.22746275810848,-2.7413122320644887,-3.722692909792124,-0.2230331317356936,-3.129861601339255,-0.7415647018872459,-1.0445602426523408,-1.2168706095670239,-2.460781923556406,-1.9130361917738974,-1.5058183189776992,-2.884246152059029,-2.7138317560858405,-1.8182390852063377,-2.016938651620738,-1.3038931170692525,-0.5869879311712912,-1.7471289802291028,-2.084502299055873,-0.28658973300191015,-2.1269236385371295,-2.64896985393347,-3.2144130755363824,0.14542361315756533,-3.6923634357243045,-0.8018534409593439,-2.710017628540777,-0.38783215626405393,-3.3657504293295606,-3.4326990926038357,-1.1785377894922484,-3.0146036969975762,-3.2083270117297036,-3.1939782274434405,-3.729443435457181,-2.946282421085449,-2.8188196398482988,-2.3225076401693734,-3.4032446011779554,-2.8526071971594127,-3.7841133666448314,0.8036602827159183,0.7384308329413983,0.9936522703239075,0.7782978095364409,-1.039338497063771,1.445644506847531,-0.01699250035661676,-2.7652670392599994,0.5392415153319046,-0.015391756600665064,-2.486410101488962,1.583463683038755,-1.757513480247158,0.4740492680436458,-2.73833958116689,-1.5838726106364802,0.20804525416873362,-0.9914368210507449,2.2306401431555565,-1.863499901096076,-0.493985744905388,0.2365325531544737,-0.11232918394988078,0.3386758982448221,2.0880724719058437,0.10588055777066267,0.13969563291431905,0.5769376591355486,0.4110206832263766,1.1553918260944271,0.40551544990957133,2.157526120844899,1.269749043458925,1.9353799245474408,0.22562751988111643,0.019412754489387476,-1.5759871674438806,0.5882666136863348,-1.5736205619044275,-1.2593097443187253,-0.40609691291869576,-0.9854754789351612,1.4104215878491466,0.27567733132676775,1.3605563533815235,-0.2105785261341145,1.4435590561975309,1.2394822940183479,1.2886220561559583,0.8285857409195885,-0.7716065491622472,-0.5884414151620275,0.42265153779477294,1.8666548338842424,0.6056892657356345,0.2567784468485211,-0.23161568174541605,0.44751451150987004,-0.09010903435600506,1.6022955783402617,1.4374906797820572,0.00652169124177301,-1.5762723683267466,0.8386206252587581,0.5123476503533004,-0.7241633196397953,0.25741412197862545,0.0398514012505227,1.2410600063116706,0.312687726373903,1.4668041048043328,2.021714779471288,2.8321471435164316,2.504281058441145,2.029210024057541,1.862435601473562,3.6173420957881954,3.73691534223556,3.432123333720502,3.4643302531215077,1.956836707705889,2.6376947939782496,2.7104418484957282,2.5145284994102526,2.803054880783976,2.8211062732736325,2.4940505219801303,4.584428088448081,3.3136167831651977,2.559308303782875,2.642359713156277,1.831234155395534,2.0107286335023136,1.394740548973385,3.257266666388808,3.1362366189594324,3.0003864787304617,3.2129360762362724,2.7777914460875914,0.5446441393141505,1.0816039807275526,2.9729929017713235,2.6238598200435974,2.3382390534586346,3.1872972320227198,2.3736400823404975,2.9631533396146597,1.9205435778806974,3.2838646147227744,1.6968713684326706,1.880766281096721,3.8168684016073873,3.992699397850527,2.780155509981792,3.106776815932332,2.147516387639739,2.981715867718613,2.7164010165683745,2.6138836767341007],\"y\":[-1.3733404722704183,1.3516763076659235,2.901143763335218,-1.682884362680991,-0.9577149569577436,-1.655609646365105,-1.532644336741853,-0.3446497454588932,0.5877698146787113,-1.344769171137457,3.132546286494436,-1.5602908554838164,-1.4840255813666337,1.2194253723115664,1.243479246803179,-0.9202312466669599,1.7948255919275111,1.8892537896905817,-1.6578686895036019,-1.5588901498045968,-1.2297960798929126,2.7513531621213443,-1.1983122716647687,3.073230938108164,2.404584571379158,-0.8525566445316902,-1.6664936630324176,-1.4897338291570412,2.206382545586366,-1.2978235004177838,-1.120946624568329,2.8336238621528875,-0.6366321660375305,1.8524775855943545,2.648860137925225,-0.45471371930543414,-1.7389869372133193,2.772810990626061,-1.189741309393161,0.8187029026197122,-1.3966224818916315,2.6723996854468948,-1.3903622621663683,-0.3292638235086665,-1.2666289744943187,2.2645636125630784,-1.4526363718783408,-1.2552851958933984,2.6977759863084474,-0.13121862697078782,1.6018981701141752,-0.4677568618717789,0.5986614911249065,-1.8757017903107702,-1.5433427098377588,-0.5580114769553813,-1.5371274779342026,-1.6788071897181547,-1.5223844606211592,1.4163550538730443,-1.959804429841572,-2.144059430909619,2.8896967537078604,3.6119254556633313,2.8410631280293916,2.973756315711742,-0.6364927293794819,2.674948941127829,-2.152757321113743,-0.6755566596715816,-0.9726856162013778,-0.059747534051929445,-0.5964101321743447,-0.7203003756031089,-0.012594915867777359,-1.2799875717844833,-1.0427914742110238,2.549094357621494,-1.099493382014096,-0.29205968900924084,3.6773571456287404,3.2249536868118645,-0.1914977545116819,-2.0968837168611865,3.186853137475076,3.302376652322369,-0.9905907419927124,-0.25006930149748174,-0.8928976377500559,-0.14299757710825986,2.729163512572129,-1.3201562998174414,-1.0150637404143272,3.424460623549852,3.450337551704503,3.3012826421608774,-0.974119239540821,-0.7994524671328784,3.520149918786318,3.5464489530233054,0.6315410230260737,3.0846095383025443,-0.6762362931390771,2.5419101790832603,-0.18191020558021126,-1.5027960149989832,3.029767061679615,-1.4853034209227916,3.196115735848108,2.7330726921208863,2.919789118990175,-0.43354728327359565,1.6728149299652935,-0.43381247494842173,-1.1239539092075923,0.17438979356754652,-0.12880197475547492,-0.877468235281418,-2.1275103246996223,3.0484957200466494,2.4940680601019127,-1.209927894481158,-1.4354967563183028,-0.9489905344731308,-0.16116132427212415,-0.3808755964365577,-0.7545191564189354,-1.4965195076291733,-0.3096933509717417,-1.5623105989540216,2.2116759437935376,1.2599259576724262,-1.4788558634758573,-1.6083591353313387,-0.9233787047241714,1.5682742976065027,-1.9832251476245435,-1.9777406129028785,0.975131008026343,-1.4874368619889762,-1.8163001173326214,1.186016404374367,-1.7027040694652358,1.1415233951915869,1.7453546101852595,-1.6983224980094107,0.6377567039185046,-2.372796404794442,-2.2373031599458892,-2.3028684943003577,-1.875420307160089,-2.5528565675786723,-1.6020749819396667,1.1974242012274898,1.1047264043575529,-2.844095414716401,0.631463692269514,-2.6118503321416813,-2.0306612707429204,-2.562915436277064,-1.959022046937982,0.9484546516652049,-2.3803126595830735,1.6659468936141866,-2.5970637632421614,-2.5824630474570025,-1.977738286651921,0.8499736876908423,-1.8459022388470454,-2.0367027724865054,1.7564264010014297,0.7056752759536884,0.6224779159440765,-2.405194927549249,-1.8107981761262986,0.5328638357884851,0.6643462918112614,-2.402207510910758],\"z\":[-0.8611572706537488,-0.3201305961289447,-1.637708977374124,-2.036820184156518,-0.05360815147948515,-1.5057983444899639,-0.6368733582454829,-1.5367978890024188,-1.3568316863223733,-0.26890980437780465,-1.961376328577449,-0.14379978130105436,-0.17670134175037777,-1.6413135481185306,-2.5464876456745404,-1.27395038209538,-2.723452581285272,-2.0724084013031554,-1.8671917104501359,-0.516111581744664,-0.2639473265258213,-0.9187246850155288,0.5838460382709156,-0.23748654522826795,-0.23421491949950332,-0.8566607354195243,-0.12124912377092686,0.5155208327735576,-1.1639753514049567,0.2756255445230131,-0.3968316309724855,-2.110198329720354,0.21768776156947198,-2.070375140084132,-1.3718637974330068,0.545126835223466,-0.1252419583359282,-0.8565489087518849,1.1225100394831566,-2.2341285172377825,-0.2290907589805414,-0.8991351831296754,-0.5675047090363932,-0.3519709610020614,0.5510209791156363,-2.354942726420602,-0.617441329822556,-0.13676687734784915,-1.893541792579258,-1.7046532589019634,-0.8000935117642879,-0.4124476144847005,-1.9230820299716862,-1.2411735984271497,-0.5009490633885044,-0.5473330645094501,-0.8630748593669658,-0.6186072664567787,-1.1113524344022212,2.057620722802022,1.6822892322085397,1.1512092666399338,0.3364531513638731,1.0665999282515346,1.0074480574324414,-0.029346687717776248,2.1658494558590586,1.6280182135304218,0.6440612369143892,1.637311763851025,1.4112091046386794,0.8364774537262636,0.8450264841579691,0.12732599612615347,1.9007402811103464,2.6243275999404854,2.3462831325972933,0.5040392877361545,1.070467621086972,1.0920609271545536,2.374872033344922,0.5988774895982891,2.108594592308222,0.7913341170443954,0.6615576626579882,1.1161329019531199,2.7624843402603796,2.1468393103578487,2.4286532645714876,2.3857011196849904,1.2122641371431433,2.423389716810429,2.103754665414439,1.415218200382198,1.321677198868767,-0.9291488882284106,1.022740630062328,2.809571766804438,0.6212569780636763,1.3004933560759877,2.0638597216195764,1.3099283315669485,1.8257556733089517,1.8702385971825728,2.62010422652602,2.3562920715826507,1.2687940411740062,1.961869424898463,1.4074437141181932,0.86464030193786,0.7410671749529167,2.486791006523245,0.17149586507611916,2.8149407946954668,2.5880007817639763,4.329397806057672,3.289406075966997,2.498871201111267,1.56836685865279,1.3255949935438343,0.8057263724647122,0.2757761520265268,0.9774181050235962,1.3457934013478998,2.1259718239127734,2.693699764526093,1.9655299731248965,1.5058250335152161,1.7340277493218894,1.8123152593242464,-1.0172962311852567,-1.0277324363914855,-0.44749427367484035,0.2858192561460954,0.3095689496319979,-1.1367779851404793,0.5003809451113119,-0.7086007061828732,-0.9811824624886221,-0.38138305587691174,0.4134193241514535,-0.9899115069623678,-0.5922732532093494,-1.0694218938120272,-1.9223649946293053,0.08620165281130694,-1.2867130577206456,-0.4889161117240217,-0.7882371750965758,-1.2664910586243026,-2.3864426385674222,-1.2810598874283676,-1.5481156113325651,-2.7923463795160397,-1.0576625516523948,-1.0092397632627335,-2.435854897354962,-0.9405428161475758,-3.360780721119805,-1.525624884305381,-0.024226955157484725,-1.7339758563447003,0.1742787567388472,-1.463952907528439,-0.8359603229083261,-0.18011127168746788,-2.4054599871178257,-1.8719312803458605,-2.089420819623811,-2.530914490883957,-0.5750649739878069,-1.4679006257605565,-2.6945269257150044,-1.4283454992317086,-1.6088621517649504,-3.254801494636373,-2.7971917557653883,-2.690534789196446],\"type\":\"scatter3d\"}],                        {\"height\":1000,\"scene\":{\"xaxis\":{\"title\":{\"text\":\"PC1\"}},\"yaxis\":{\"title\":{\"text\":\"PC2\"}},\"zaxis\":{\"title\":{\"text\":\"PC3\"}}},\"width\":1000,\"template\":{\"data\":{\"histogram2dcontour\":[{\"type\":\"histogram2dcontour\",\"colorbar\":{\"outlinewidth\":0,\"ticks\":\"\"},\"colorscale\":[[0.0,\"#0d0887\"],[0.1111111111111111,\"#46039f\"],[0.2222222222222222,\"#7201a8\"],[0.3333333333333333,\"#9c179e\"],[0.4444444444444444,\"#bd3786\"],[0.5555555555555556,\"#d8576b\"],[0.6666666666666666,\"#ed7953\"],[0.7777777777777778,\"#fb9f3a\"],[0.8888888888888888,\"#fdca26\"],[1.0,\"#f0f921\"]]}],\"choropleth\":[{\"type\":\"choropleth\",\"colorbar\":{\"outlinewidth\":0,\"ticks\":\"\"}}],\"histogram2d\":[{\"type\":\"histogram2d\",\"colorbar\":{\"outlinewidth\":0,\"ticks\":\"\"},\"colorscale\":[[0.0,\"#0d0887\"],[0.1111111111111111,\"#46039f\"],[0.2222222222222222,\"#7201a8\"],[0.3333333333333333,\"#9c179e\"],[0.4444444444444444,\"#bd3786\"],[0.5555555555555556,\"#d8576b\"],[0.6666666666666666,\"#ed7953\"],[0.7777777777777778,\"#fb9f3a\"],[0.8888888888888888,\"#fdca26\"],[1.0,\"#f0f921\"]]}],\"heatmap\":[{\"type\":\"heatmap\",\"colorbar\":{\"outlinewidth\":0,\"ticks\":\"\"},\"colorscale\":[[0.0,\"#0d0887\"],[0.1111111111111111,\"#46039f\"],[0.2222222222222222,\"#7201a8\"],[0.3333333333333333,\"#9c179e\"],[0.4444444444444444,\"#bd3786\"],[0.5555555555555556,\"#d8576b\"],[0.6666666666666666,\"#ed7953\"],[0.7777777777777778,\"#fb9f3a\"],[0.8888888888888888,\"#fdca26\"],[1.0,\"#f0f921\"]]}],\"heatmapgl\":[{\"type\":\"heatmapgl\",\"colorbar\":{\"outlinewidth\":0,\"ticks\":\"\"},\"colorscale\":[[0.0,\"#0d0887\"],[0.1111111111111111,\"#46039f\"],[0.2222222222222222,\"#7201a8\"],[0.3333333333333333,\"#9c179e\"],[0.4444444444444444,\"#bd3786\"],[0.5555555555555556,\"#d8576b\"],[0.6666666666666666,\"#ed7953\"],[0.7777777777777778,\"#fb9f3a\"],[0.8888888888888888,\"#fdca26\"],[1.0,\"#f0f921\"]]}],\"contourcarpet\":[{\"type\":\"contourcarpet\",\"colorbar\":{\"outlinewidth\":0,\"ticks\":\"\"}}],\"contour\":[{\"type\":\"contour\",\"colorbar\":{\"outlinewidth\":0,\"ticks\":\"\"},\"colorscale\":[[0.0,\"#0d0887\"],[0.1111111111111111,\"#46039f\"],[0.2222222222222222,\"#7201a8\"],[0.3333333333333333,\"#9c179e\"],[0.4444444444444444,\"#bd3786\"],[0.5555555555555556,\"#d8576b\"],[0.6666666666666666,\"#ed7953\"],[0.7777777777777778,\"#fb9f3a\"],[0.8888888888888888,\"#fdca26\"],[1.0,\"#f0f921\"]]}],\"surface\":[{\"type\":\"surface\",\"colorbar\":{\"outlinewidth\":0,\"ticks\":\"\"},\"colorscale\":[[0.0,\"#0d0887\"],[0.1111111111111111,\"#46039f\"],[0.2222222222222222,\"#7201a8\"],[0.3333333333333333,\"#9c179e\"],[0.4444444444444444,\"#bd3786\"],[0.5555555555555556,\"#d8576b\"],[0.6666666666666666,\"#ed7953\"],[0.7777777777777778,\"#fb9f3a\"],[0.8888888888888888,\"#fdca26\"],[1.0,\"#f0f921\"]]}],\"mesh3d\":[{\"type\":\"mesh3d\",\"colorbar\":{\"outlinewidth\":0,\"ticks\":\"\"}}],\"scatter\":[{\"fillpattern\":{\"fillmode\":\"overlay\",\"size\":10,\"solidity\":0.2},\"type\":\"scatter\"}],\"parcoords\":[{\"type\":\"parcoords\",\"line\":{\"colorbar\":{\"outlinewidth\":0,\"ticks\":\"\"}}}],\"scatterpolargl\":[{\"type\":\"scatterpolargl\",\"marker\":{\"colorbar\":{\"outlinewidth\":0,\"ticks\":\"\"}}}],\"bar\":[{\"error_x\":{\"color\":\"#2a3f5f\"},\"error_y\":{\"color\":\"#2a3f5f\"},\"marker\":{\"line\":{\"color\":\"#E5ECF6\",\"width\":0.5},\"pattern\":{\"fillmode\":\"overlay\",\"size\":10,\"solidity\":0.2}},\"type\":\"bar\"}],\"scattergeo\":[{\"type\":\"scattergeo\",\"marker\":{\"colorbar\":{\"outlinewidth\":0,\"ticks\":\"\"}}}],\"scatterpolar\":[{\"type\":\"scatterpolar\",\"marker\":{\"colorbar\":{\"outlinewidth\":0,\"ticks\":\"\"}}}],\"histogram\":[{\"marker\":{\"pattern\":{\"fillmode\":\"overlay\",\"size\":10,\"solidity\":0.2}},\"type\":\"histogram\"}],\"scattergl\":[{\"type\":\"scattergl\",\"marker\":{\"colorbar\":{\"outlinewidth\":0,\"ticks\":\"\"}}}],\"scatter3d\":[{\"type\":\"scatter3d\",\"line\":{\"colorbar\":{\"outlinewidth\":0,\"ticks\":\"\"}},\"marker\":{\"colorbar\":{\"outlinewidth\":0,\"ticks\":\"\"}}}],\"scattermapbox\":[{\"type\":\"scattermapbox\",\"marker\":{\"colorbar\":{\"outlinewidth\":0,\"ticks\":\"\"}}}],\"scatterternary\":[{\"type\":\"scatterternary\",\"marker\":{\"colorbar\":{\"outlinewidth\":0,\"ticks\":\"\"}}}],\"scattercarpet\":[{\"type\":\"scattercarpet\",\"marker\":{\"colorbar\":{\"outlinewidth\":0,\"ticks\":\"\"}}}],\"carpet\":[{\"aaxis\":{\"endlinecolor\":\"#2a3f5f\",\"gridcolor\":\"white\",\"linecolor\":\"white\",\"minorgridcolor\":\"white\",\"startlinecolor\":\"#2a3f5f\"},\"baxis\":{\"endlinecolor\":\"#2a3f5f\",\"gridcolor\":\"white\",\"linecolor\":\"white\",\"minorgridcolor\":\"white\",\"startlinecolor\":\"#2a3f5f\"},\"type\":\"carpet\"}],\"table\":[{\"cells\":{\"fill\":{\"color\":\"#EBF0F8\"},\"line\":{\"color\":\"white\"}},\"header\":{\"fill\":{\"color\":\"#C8D4E3\"},\"line\":{\"color\":\"white\"}},\"type\":\"table\"}],\"barpolar\":[{\"marker\":{\"line\":{\"color\":\"#E5ECF6\",\"width\":0.5},\"pattern\":{\"fillmode\":\"overlay\",\"size\":10,\"solidity\":0.2}},\"type\":\"barpolar\"}],\"pie\":[{\"automargin\":true,\"type\":\"pie\"}]},\"layout\":{\"autotypenumbers\":\"strict\",\"colorway\":[\"#636efa\",\"#EF553B\",\"#00cc96\",\"#ab63fa\",\"#FFA15A\",\"#19d3f3\",\"#FF6692\",\"#B6E880\",\"#FF97FF\",\"#FECB52\"],\"font\":{\"color\":\"#2a3f5f\"},\"hovermode\":\"closest\",\"hoverlabel\":{\"align\":\"left\"},\"paper_bgcolor\":\"white\",\"plot_bgcolor\":\"#E5ECF6\",\"polar\":{\"bgcolor\":\"#E5ECF6\",\"angularaxis\":{\"gridcolor\":\"white\",\"linecolor\":\"white\",\"ticks\":\"\"},\"radialaxis\":{\"gridcolor\":\"white\",\"linecolor\":\"white\",\"ticks\":\"\"}},\"ternary\":{\"bgcolor\":\"#E5ECF6\",\"aaxis\":{\"gridcolor\":\"white\",\"linecolor\":\"white\",\"ticks\":\"\"},\"baxis\":{\"gridcolor\":\"white\",\"linecolor\":\"white\",\"ticks\":\"\"},\"caxis\":{\"gridcolor\":\"white\",\"linecolor\":\"white\",\"ticks\":\"\"}},\"coloraxis\":{\"colorbar\":{\"outlinewidth\":0,\"ticks\":\"\"}},\"colorscale\":{\"sequential\":[[0.0,\"#0d0887\"],[0.1111111111111111,\"#46039f\"],[0.2222222222222222,\"#7201a8\"],[0.3333333333333333,\"#9c179e\"],[0.4444444444444444,\"#bd3786\"],[0.5555555555555556,\"#d8576b\"],[0.6666666666666666,\"#ed7953\"],[0.7777777777777778,\"#fb9f3a\"],[0.8888888888888888,\"#fdca26\"],[1.0,\"#f0f921\"]],\"sequentialminus\":[[0.0,\"#0d0887\"],[0.1111111111111111,\"#46039f\"],[0.2222222222222222,\"#7201a8\"],[0.3333333333333333,\"#9c179e\"],[0.4444444444444444,\"#bd3786\"],[0.5555555555555556,\"#d8576b\"],[0.6666666666666666,\"#ed7953\"],[0.7777777777777778,\"#fb9f3a\"],[0.8888888888888888,\"#fdca26\"],[1.0,\"#f0f921\"]],\"diverging\":[[0,\"#8e0152\"],[0.1,\"#c51b7d\"],[0.2,\"#de77ae\"],[0.3,\"#f1b6da\"],[0.4,\"#fde0ef\"],[0.5,\"#f7f7f7\"],[0.6,\"#e6f5d0\"],[0.7,\"#b8e186\"],[0.8,\"#7fbc41\"],[0.9,\"#4d9221\"],[1,\"#276419\"]]},\"xaxis\":{\"gridcolor\":\"white\",\"linecolor\":\"white\",\"ticks\":\"\",\"title\":{\"standoff\":15},\"zerolinecolor\":\"white\",\"automargin\":true,\"zerolinewidth\":2},\"yaxis\":{\"gridcolor\":\"white\",\"linecolor\":\"white\",\"ticks\":\"\",\"title\":{\"standoff\":15},\"zerolinecolor\":\"white\",\"automargin\":true,\"zerolinewidth\":2},\"scene\":{\"xaxis\":{\"backgroundcolor\":\"#E5ECF6\",\"gridcolor\":\"white\",\"linecolor\":\"white\",\"showbackground\":true,\"ticks\":\"\",\"zerolinecolor\":\"white\",\"gridwidth\":2},\"yaxis\":{\"backgroundcolor\":\"#E5ECF6\",\"gridcolor\":\"white\",\"linecolor\":\"white\",\"showbackground\":true,\"ticks\":\"\",\"zerolinecolor\":\"white\",\"gridwidth\":2},\"zaxis\":{\"backgroundcolor\":\"#E5ECF6\",\"gridcolor\":\"white\",\"linecolor\":\"white\",\"showbackground\":true,\"ticks\":\"\",\"zerolinecolor\":\"white\",\"gridwidth\":2}},\"shapedefaults\":{\"line\":{\"color\":\"#2a3f5f\"}},\"annotationdefaults\":{\"arrowcolor\":\"#2a3f5f\",\"arrowhead\":0,\"arrowwidth\":1},\"geo\":{\"bgcolor\":\"white\",\"landcolor\":\"#E5ECF6\",\"subunitcolor\":\"white\",\"showland\":true,\"showlakes\":true,\"lakecolor\":\"white\"},\"title\":{\"x\":0.05},\"mapbox\":{\"style\":\"light\"}}},\"font\":{\"size\":18},\"title\":{\"text\":\"DBSCAN clusters with PCA\"}},                        {\"responsive\": true}                    ).then(function(){\n",
       "                            \n",
       "var gd = document.getElementById('d56a4fee-c2d8-4eb0-87ee-73efb7654f4d');\n",
       "var x = new MutationObserver(function (mutations, observer) {{\n",
       "        var display = window.getComputedStyle(gd).display;\n",
       "        if (!display || display === 'none') {{\n",
       "            console.log([gd, 'removed!']);\n",
       "            Plotly.purge(gd);\n",
       "            observer.disconnect();\n",
       "        }}\n",
       "}});\n",
       "\n",
       "// Listen for the removal of the full notebook cells\n",
       "var notebookContainer = gd.closest('#notebook-container');\n",
       "if (notebookContainer) {{\n",
       "    x.observe(notebookContainer, {childList: true});\n",
       "}}\n",
       "\n",
       "// Listen for the clearing of the current output cell\n",
       "var outputEl = gd.closest('.output');\n",
       "if (outputEl) {{\n",
       "    x.observe(outputEl, {childList: true});\n",
       "}}\n",
       "\n",
       "                        })                };                });            </script>        </div>"
      ]
     },
     "metadata": {},
     "output_type": "display_data"
    }
   ],
   "source": [
    "#Note:this graph wont open in github. check running the code in jupyter notebook to view the graph of clusters\n",
    "\n",
    "Scene = dict(xaxis = dict(title  = 'PC1'),yaxis = dict(title  = 'PC2'),zaxis = dict(title  = 'PC3'))\n",
    "label1=model1.labels_\n",
    "trace = go.Scatter3d(x=db_data.iloc[:,0], y=db_data.iloc[:,1], z=db_data.iloc[:,2], mode='markers',marker=dict(color = label1, colorscale='Viridis', size = 10, line = dict(color = 'gray',width = 5)))\n",
    "layout = go.Layout(scene = Scene, height = 1000,width = 1000)\n",
    "data = [trace]\n",
    "fig = go.Figure(data = data, layout = layout)\n",
    "fig.update_layout(title='DBSCAN clusters with PCA', font=dict(size=18,))\n",
    "fig.show()"
   ]
  },
  {
   "cell_type": "markdown",
   "id": "c54523dc",
   "metadata": {},
   "source": [
    "# 4 cluster obtained from DBSCAN and14 points are noise\n"
   ]
  },
  {
   "cell_type": "code",
   "execution_count": null,
   "id": "b2dfc019",
   "metadata": {},
   "outputs": [],
   "source": []
  }
 ],
 "metadata": {
  "kernelspec": {
   "display_name": "Python 3 (ipykernel)",
   "language": "python",
   "name": "python3"
  },
  "language_info": {
   "codemirror_mode": {
    "name": "ipython",
    "version": 3
   },
   "file_extension": ".py",
   "mimetype": "text/x-python",
   "name": "python",
   "nbconvert_exporter": "python",
   "pygments_lexer": "ipython3",
   "version": "3.9.7"
  }
 },
 "nbformat": 4,
 "nbformat_minor": 5
}
